{
 "cells": [
  {
   "cell_type": "markdown",
   "id": "62c56f49",
   "metadata": {
    "ExecuteTime": {
     "end_time": "2023-03-06T07:21:27.238198Z",
     "start_time": "2023-03-06T07:21:27.235446Z"
    }
   },
   "source": [
    "## Importing Libararies"
   ]
  },
  {
   "cell_type": "code",
   "execution_count": 2,
   "id": "e307d9c5",
   "metadata": {},
   "outputs": [],
   "source": [
    "import os\n",
    "import os\n",
    "####*IMPORANT*: Have to do this line *before* importing tensorflow\n",
    "os.environ['PYTHONHASHSEED']=str(2)\n",
    "os.environ['TF_CPP_MIN_LOG_LEVEL'] = '2' \n",
    "def reset_random_seeds():\n",
    "   os.environ['PYTHONHASHSEED']=str(2)\n",
    "   tf.random.set_seed(2)\n",
    "   np.random.seed(2)\n",
    "   random.seed(2)"
   ]
  },
  {
   "cell_type": "code",
   "execution_count": 3,
   "id": "bcbed736",
   "metadata": {
    "ExecuteTime": {
     "end_time": "2023-03-06T15:00:26.385334Z",
     "start_time": "2023-03-06T15:00:23.996458Z"
    }
   },
   "outputs": [],
   "source": [
    "\n",
    "import pandas as pd\n",
    "import tensorflow as tf\n",
    "from tensorflow.keras.optimizers  import SGD, RMSprop, Adam as adam\n",
    "from tensorflow.keras.optimizers  import  RMSprop \n",
    "from sklearn import metrics\n",
    "from sklearn.utils import shuffle\n",
    "from sklearn.model_selection import train_test_split\n",
    "import matplotlib.image as mpimg\n",
    "import matplotlib.pyplot as plt\n",
    "import pandas as pd\n",
    "import numpy as np\n",
    "import os\n",
    "import cv2\n",
    "import random as rn\n",
    "from numpy import *\n",
    "from tqdm import tqdm\n",
    "import inspect\n",
    "from tensorflow.keras import backend as K\n",
    "from tensorflow.keras.models import Sequential, Model\n",
    "from tensorflow.keras.layers import Dense, GRU, Flatten, TimeDistributed, Flatten, BatchNormalization, Activation, Dropout\n",
    "from tensorflow.keras.callbacks import ModelCheckpoint, ReduceLROnPlateau\n",
    "from tensorflow.keras.layers import LeakyReLU\n",
    "import datetime\n",
    "import os\n",
    "import keras\n",
    "import pickle\n",
    "import lzma\n",
    "from tensorflow.keras.applications import DenseNet169\n",
    "from tensorflow.keras.preprocessing import image\n",
    "from tensorflow.keras.models import Model\n",
    "from tensorflow.keras.layers import Dense, GlobalAveragePooling2D,Conv2D,MaxPooling2D,GRU, Flatten, TimeDistributed, Flatten, BatchNormalization, Activation, Dropout\n",
    "from tensorflow.keras import backend\n",
    "import os\n",
    "import cv2\n",
    "import random as rn\n",
    "from numpy import *\n",
    "from tqdm import tqdm\n",
    "from sklearn.utils import shuffle\n",
    "backend.set_image_data_format('channels_last')"
   ]
  },
  {
   "cell_type": "markdown",
   "id": "92700e0b",
   "metadata": {},
   "source": [
    "## Reading Data"
   ]
  },
  {
   "cell_type": "code",
   "execution_count": 4,
   "id": "5b52fe38",
   "metadata": {},
   "outputs": [],
   "source": [
    "# tf.random.set_seed(42)\n",
    "# "
   ]
  },
  {
   "cell_type": "code",
   "execution_count": 5,
   "id": "e5e27152",
   "metadata": {
    "ExecuteTime": {
     "end_time": "2023-03-06T15:00:26.406081Z",
     "start_time": "2023-03-06T15:00:26.388204Z"
    }
   },
   "outputs": [],
   "source": [
    "source_data = pd.read_csv(\"../train_data_all.csv\")"
   ]
  },
  {
   "cell_type": "code",
   "execution_count": 6,
   "id": "d781559c",
   "metadata": {
    "ExecuteTime": {
     "end_time": "2023-03-06T15:00:26.414811Z",
     "start_time": "2023-03-06T15:00:26.407475Z"
    }
   },
   "outputs": [],
   "source": [
    "source_data[\"path\"] = \"../\"+source_data[\"path\"]"
   ]
  },
  {
   "cell_type": "code",
   "execution_count": 7,
   "id": "91c352f2",
   "metadata": {
    "ExecuteTime": {
     "end_time": "2023-03-06T15:00:26.420339Z",
     "start_time": "2023-03-06T15:00:26.416000Z"
    }
   },
   "outputs": [
    {
     "data": {
      "text/plain": [
       "array(['IEMOCAP', 'EMODB', 'SAVEE', 'RAVDESS'], dtype=object)"
      ]
     },
     "execution_count": 7,
     "metadata": {},
     "output_type": "execute_result"
    }
   ],
   "source": [
    "sources = source_data[\"source\"].unique()\n",
    "sources"
   ]
  },
  {
   "cell_type": "code",
   "execution_count": 8,
   "id": "26b7e000",
   "metadata": {
    "ExecuteTime": {
     "end_time": "2023-03-06T15:00:26.423496Z",
     "start_time": "2023-03-06T15:00:26.421473Z"
    }
   },
   "outputs": [],
   "source": [
    "from sklearn.model_selection import train_test_split"
   ]
  },
  {
   "cell_type": "markdown",
   "id": "89d41375",
   "metadata": {},
   "source": [
    "## Test Train Split"
   ]
  },
  {
   "cell_type": "code",
   "execution_count": 9,
   "id": "d4e8d6c9",
   "metadata": {},
   "outputs": [],
   "source": [
    "def get_train_test_data(source_data, eval_dataset,test_size=0.20, shape=(75,75)):\n",
    "    data = source_data[(source_data.source==eval_dataset) & (source_data.augmented==0)]\n",
    "    print(data.value_counts(\"augmented\"))\n",
    "    min_size = data.groupby(\"emotion\").count()[\"source\"].min()\n",
    "\n",
    "    train_combined_data=[]\n",
    "    for em in data[\"emotion\"].unique():\n",
    "        emotion_data = data[data[\"emotion\"]==em]\n",
    "        if len(emotion_data)>min_size:\n",
    "            train_combined_data.append(emotion_data.sample(min_size))\n",
    "        else:\n",
    "            train_combined_data.append(emotion_data)\n",
    "\n",
    "    data = pd.concat(train_combined_data).reset_index(drop=True)\n",
    "\n",
    "    data = data [[\"path\",\"emotion_class\",\"augmented\"]]\n",
    "\n",
    "    print(data.shape)\n",
    "    \n",
    "    \n",
    "    \n",
    "     \n",
    "    train_data, test_data = train_test_split(data,stratify=data['emotion_class'], \n",
    "                                                        test_size=test_size)\n",
    "    \n",
    "    if eval_dataset in [\"MobileNet\",\"DenseNet121\",\"VGG19\",\"VGG16\",\"Xception\",\"DenseNet201\",\"ResNet152V2\"]:\n",
    "        sample_test_size = 0.2500\n",
    "    else:\n",
    "        sample_test_size = 0.300\n",
    "    train_data_1, test_data_2 = train_test_split(test_data,stratify=test_data['emotion_class'], \n",
    "                                                        test_size=0.100)\n",
    "\n",
    "    train_data = pd.concat([train_data,test_data_2]).reset_index(drop = True)\n",
    "    print(train_data.value_counts(\"augmented\"))\n",
    "    \n",
    "\n",
    "\n",
    "    train_data.to_csv(f\"train_data_for_{eval_dataset}.csv\",index=False)\n",
    "    test_data.to_csv(f\"test_data_for_{eval_dataset}.csv\",index=False)\n",
    "    \n",
    "    image_train_data = create_train_data(train_data,shape)\n",
    "    image_test_data = create_test_data(test_data,shape)\n",
    "    \n",
    "\n",
    "    X_train = np.array([i[0] for i in image_train_data])\n",
    "    y_train = np.array([i[1] for i in image_train_data])\n",
    "    X_test = np.array([i[0] for i in image_test_data])\n",
    "    y_test = np.array([i[1] for i in image_test_data])\n",
    "\n",
    "    return X_train,y_train,X_test,y_test"
   ]
  },
  {
   "cell_type": "code",
   "execution_count": 10,
   "id": "6ebfb1ba",
   "metadata": {
    "ExecuteTime": {
     "end_time": "2023-03-06T15:00:26.431388Z",
     "start_time": "2023-03-06T15:00:26.424523Z"
    }
   },
   "outputs": [],
   "source": [
    "# def get_train_test_data(source_data, eval_dataset,test_size=0.20, shape=(75,75)):\n",
    "#     data = source_data[(source_data.source==eval_dataset) & (source_data.augmented==0)]\n",
    "   \n",
    "#     min_size = data.groupby(\"emotion\").count()[\"source\"].min()\n",
    "#     print(\"min_size\",min_size)\n",
    "\n",
    "#     train_combined_data=[]\n",
    "#     for em in data[\"emotion\"].unique():\n",
    "#         emotion_data = data[data[\"emotion\"]==em]\n",
    "#         print(\"size\",len(emotion_data))\n",
    "#         if len(emotion_data)>min_size:\n",
    "#             train_combined_data.append(emotion_data.sample(min_size))\n",
    "#         else:\n",
    "#             train_combined_data.append(emotion_data)\n",
    "\n",
    "#     data = pd.concat(train_combined_data).reset_index(drop=True)\n",
    "\n",
    "#     data = data [[\"path\",\"emotion_class\"]]\n",
    "\n",
    "#     print(data[\"emotion_class\"].value_counts())\n",
    "#     train_data, test_data = train_test_split(data,stratify=data['emotion_class'], \n",
    "#                                                         test_size=test_size)\n",
    "#     image_train_data = create_train_data(train_data,shape)\n",
    "#     image_test_data = create_test_data(test_data,shape)\n",
    "    \n",
    "\n",
    "#     X_train = np.array([i[0] for i in image_train_data])\n",
    "#     y_train = np.array([i[1] for i in image_train_data])\n",
    "#     X_test = np.array([i[0] for i in image_test_data])\n",
    "#     y_test = np.array([i[1] for i in image_test_data])\n",
    "\n",
    "#     return X_train,y_train,X_test,y_test"
   ]
  },
  {
   "cell_type": "code",
   "execution_count": 11,
   "id": "0fce923b",
   "metadata": {
    "ExecuteTime": {
     "end_time": "2023-03-06T15:00:26.437340Z",
     "start_time": "2023-03-06T15:00:26.432763Z"
    }
   },
   "outputs": [],
   "source": [
    "# Mean Normalization\n",
    "def mean_normalization(image):\n",
    "    return cv2.normalize(image, None, 0, 1.0, cv2.NORM_MINMAX, dtype=cv2.CV_32F)"
   ]
  },
  {
   "cell_type": "code",
   "execution_count": 12,
   "id": "ee58fc3a",
   "metadata": {
    "ExecuteTime": {
     "end_time": "2023-03-06T15:00:26.642885Z",
     "start_time": "2023-03-06T15:00:26.638968Z"
    }
   },
   "outputs": [],
   "source": [
    "def create_train_data(train_df,shape):\n",
    "    # Creating an empty list where we should store the training data\n",
    "    # after a little preprocessing of the data\n",
    "    training_data = []\n",
    "  \n",
    "    # tqdm is only used for interactive loading\n",
    "    # loading the training data\n",
    "    for row in train_df.itertuples():\n",
    "  \n",
    "        # labeling the images\n",
    "        label = row.emotion_class\n",
    "  \n",
    "        path = row.path\n",
    "  \n",
    "        # loading the image from the path and then converting them into\n",
    "        # grayscale for easier covnet prob\n",
    "        img = cv2.imread(path)\n",
    "        # print(img.shape)  \n",
    "        # resizing the image for processing them in the covnet\n",
    "        img = cv2.resize(img, shape)\n",
    "        # print(img.shape)  \n",
    "        img  = mean_normalization(img)\n",
    "        # print(img.shape)  \n",
    "        # final step-forming the training data list with numpy array of the images\n",
    "        training_data.append([np.array(img),np.array(label)])\n",
    "  \n",
    "    # shuffling of the training data to preserve the random state of our data\n",
    "    shuffle(training_data)\n",
    "    return training_data"
   ]
  },
  {
   "cell_type": "code",
   "execution_count": 13,
   "id": "6180d16c",
   "metadata": {
    "ExecuteTime": {
     "end_time": "2023-03-06T15:00:27.160705Z",
     "start_time": "2023-03-06T15:00:27.157063Z"
    }
   },
   "outputs": [],
   "source": [
    "def create_test_data(test_df,shape):\n",
    "    testing_data = []\n",
    "    for row in test_df.itertuples():\n",
    "        # labeling the images\n",
    "        label = row.emotion_class\n",
    "  \n",
    "        path = row.path    \n",
    "    \n",
    "        img = cv2.imread(path)\n",
    "        img = cv2.resize(img, shape)\n",
    "        img  = mean_normalization(img)\n",
    "        testing_data.append([np.array(img), np.array(label)])\n",
    "          \n",
    "    shuffle(testing_data)\n",
    "    \n",
    "\n",
    "    return testing_data"
   ]
  },
  {
   "cell_type": "code",
   "execution_count": 14,
   "id": "955507d3",
   "metadata": {
    "ExecuteTime": {
     "end_time": "2023-03-06T15:00:27.503766Z",
     "start_time": "2023-03-06T15:00:27.499734Z"
    }
   },
   "outputs": [],
   "source": [
    "def get_pre_trained_models():\n",
    "    # List all available models\n",
    "    model_dictionary = {m[0]:m[1] for m in inspect.getmembers(tf.keras.applications, inspect.isfunction)}\n",
    "    model_list =['DenseNet169',\n",
    "    'DenseNet121',\n",
    "    \n",
    "    'Xception',\n",
    "    'DenseNet201',\n",
    "    'VGG16',\n",
    "    'VGG19',\n",
    " \n",
    "    'ResNet50V2',\n",
    "    'ResNet152V2',\n",
    "    'MobileNet',\n",
    "    'InceptionV3']\n",
    "    models_not_used = set(model_dictionary.keys())-set(model_list)\n",
    "    \n",
    "    for model_name in models_not_used:\n",
    "        if model_name in model_dictionary:\n",
    "            del model_dictionary[model_name]\n",
    "\n",
    "    return model_dictionary"
   ]
  },
  {
   "cell_type": "code",
   "execution_count": 15,
   "id": "34eabb28",
   "metadata": {
    "ExecuteTime": {
     "end_time": "2023-03-06T15:00:28.385285Z",
     "start_time": "2023-03-06T15:00:28.383071Z"
    }
   },
   "outputs": [
    {
     "data": {
      "text/plain": [
       "{'DenseNet121': <function keras.applications.densenet.DenseNet121(include_top=True, weights='imagenet', input_tensor=None, input_shape=None, pooling=None, classes=1000, classifier_activation='softmax')>,\n",
       " 'DenseNet169': <function keras.applications.densenet.DenseNet169(include_top=True, weights='imagenet', input_tensor=None, input_shape=None, pooling=None, classes=1000, classifier_activation='softmax')>,\n",
       " 'DenseNet201': <function keras.applications.densenet.DenseNet201(include_top=True, weights='imagenet', input_tensor=None, input_shape=None, pooling=None, classes=1000, classifier_activation='softmax')>,\n",
       " 'InceptionV3': <function keras.applications.inception_v3.InceptionV3(include_top=True, weights='imagenet', input_tensor=None, input_shape=None, pooling=None, classes=1000, classifier_activation='softmax')>,\n",
       " 'MobileNet': <function keras.applications.mobilenet.MobileNet(input_shape=None, alpha=1.0, depth_multiplier=1, dropout=0.001, include_top=True, weights='imagenet', input_tensor=None, pooling=None, classes=1000, classifier_activation='softmax', **kwargs)>,\n",
       " 'ResNet152V2': <function keras.applications.resnet_v2.ResNet152V2(include_top=True, weights='imagenet', input_tensor=None, input_shape=None, pooling=None, classes=1000, classifier_activation='softmax')>,\n",
       " 'ResNet50V2': <function keras.applications.resnet_v2.ResNet50V2(include_top=True, weights='imagenet', input_tensor=None, input_shape=None, pooling=None, classes=1000, classifier_activation='softmax')>,\n",
       " 'VGG16': <function keras.applications.vgg16.VGG16(include_top=True, weights='imagenet', input_tensor=None, input_shape=None, pooling=None, classes=1000, classifier_activation='softmax')>,\n",
       " 'VGG19': <function keras.applications.vgg19.VGG19(include_top=True, weights='imagenet', input_tensor=None, input_shape=None, pooling=None, classes=1000, classifier_activation='softmax')>,\n",
       " 'Xception': <function keras.applications.xception.Xception(include_top=True, weights='imagenet', input_tensor=None, input_shape=None, pooling=None, classes=1000, classifier_activation='softmax')>}"
      ]
     },
     "execution_count": 15,
     "metadata": {},
     "output_type": "execute_result"
    }
   ],
   "source": [
    "model_dictionary = get_pre_trained_models()\n",
    "model_benchmarks_map ={}\n",
    "model_dictionary"
   ]
  },
  {
   "cell_type": "code",
   "execution_count": 16,
   "id": "5117be07",
   "metadata": {},
   "outputs": [],
   "source": [
    "\n",
    "metrics_dict = {\"model\":[] , \"EMODB\":[]\t\t, \"SAVEE\" :[]\t, \t \"RAVDESS\":[]\t\t,\"IEMOCAP\":[], \"EMODB+AWGN\":[]\t\t, \"SAVEE+AWGN\" :[]\t, \t \"RAVDESS+AWGN\":[]\t\t,\"IEMOCAP+AWGN\":[]}\t\n"
   ]
  },
  {
   "cell_type": "code",
   "execution_count": 17,
   "id": "028f05d8",
   "metadata": {},
   "outputs": [
    {
     "data": {
      "text/html": [
       "<div>\n",
       "<style scoped>\n",
       "    .dataframe tbody tr th:only-of-type {\n",
       "        vertical-align: middle;\n",
       "    }\n",
       "\n",
       "    .dataframe tbody tr th {\n",
       "        vertical-align: top;\n",
       "    }\n",
       "\n",
       "    .dataframe thead th {\n",
       "        text-align: right;\n",
       "    }\n",
       "</style>\n",
       "<table border=\"1\" class=\"dataframe\">\n",
       "  <thead>\n",
       "    <tr style=\"text-align: right;\">\n",
       "      <th></th>\n",
       "      <th>model</th>\n",
       "      <th>EMODB</th>\n",
       "      <th>SAVEE</th>\n",
       "      <th>RAVDESS</th>\n",
       "      <th>IEMOCAP</th>\n",
       "      <th>EMODB+AWGN</th>\n",
       "      <th>SAVEE+AWGN</th>\n",
       "      <th>RAVDESS+AWGN</th>\n",
       "      <th>IEMOCAP+AWGN</th>\n",
       "    </tr>\n",
       "  </thead>\n",
       "  <tbody>\n",
       "  </tbody>\n",
       "</table>\n",
       "</div>"
      ],
      "text/plain": [
       "Empty DataFrame\n",
       "Columns: [model, EMODB, SAVEE, RAVDESS, IEMOCAP, EMODB+AWGN, SAVEE+AWGN, RAVDESS+AWGN, IEMOCAP+AWGN]\n",
       "Index: []"
      ]
     },
     "execution_count": 17,
     "metadata": {},
     "output_type": "execute_result"
    }
   ],
   "source": [
    "df_metrics = pd.DataFrame(metrics_dict)\n",
    "df_metrics"
   ]
  },
  {
   "cell_type": "code",
   "execution_count": 18,
   "id": "e93e96e6",
   "metadata": {},
   "outputs": [],
   "source": [
    "df_metrics[\"model\"]=list(model_dictionary.keys())\n"
   ]
  },
  {
   "cell_type": "code",
   "execution_count": 19,
   "id": "fbd9a63c",
   "metadata": {},
   "outputs": [],
   "source": [
    "from sklearn.metrics import auc,roc_curve\n",
    "from sklearn.preprocessing import LabelBinarizer\n",
    "from sklearn.metrics import roc_curve, auc ,roc_auc_score\n",
    "import matplotlib.pyplot as plt\n",
    "\n",
    "from itertools import cycle\n",
    "\n",
    "from sklearn import metrics\n",
    "import itertools\n",
    "import numpy as np\n",
    "\n",
    "\n",
    "\n",
    "def get_class_accuracy(model,dataset, X_train,y_train,X_test,y_test, model_name):\n",
    "\n",
    "    y_pred_prob = model.predict(X_test)\n",
    "    y_pred = np.argmax(y_pred_prob,axis=1)\n",
    "\n",
    "    label_binarizer = LabelBinarizer().fit(y_train)\n",
    "    y_onehot_test = label_binarizer.transform(y_test)\n",
    "    y_onehot_test.shape  # (n_samples, n_classes)\n",
    "    y_score = label_binarizer.transform(y_pred)\n",
    "\n",
    "\n",
    "    #importing accuracy_score, precision_score, recall_score, f1_score\n",
    "    from sklearn.metrics import accuracy_score, precision_score, recall_score, f1_score\n",
    "    print('\\nAccuracy: {:.2f}\\n'.format(accuracy_score(y_test, y_pred)))\n",
    "\n",
    "    # print('Micro Precision: {:.2f}'.format(precision_score(y_test, y_pred, average='micro')))\n",
    "    # print('Micro Recall: {:.2f}'.format(recall_score(y_test, y_pred, average='micro')))\n",
    "    # print('Micro F1-score: {:.2f}\\n'.format(f1_score(y_test, y_pred, average='micro')))\n",
    "\n",
    "    # print('Macro Precision: {:.2f}'.format(precision_score(y_test, y_pred, average='macro')))\n",
    "    # print('Macro Recall: {:.2f}'.format(recall_score(y_test, y_pred, average='macro')))\n",
    "    # print('Macro F1-score: {:.2f}\\n'.format(f1_score(y_test, y_pred, average='macro')))\n",
    "\n",
    "    # print('Weighted Precision: {:.2f}'.format(precision_score(y_test, y_pred, average='weighted')))\n",
    "    # print('Weighted Recall: {:.2f}'.format(recall_score(y_test, y_pred, average='weighted')))\n",
    "    # print('Weighted F1-score: {:.2f}'.format(f1_score(y_test, y_pred, average='weighted')))\n",
    "\n",
    "\n",
    "\n",
    "    score = metrics.accuracy_score(y_test, y_pred)\n",
    "    print(\"accuracy:   %0.3f\" % score)\n",
    "\n",
    "    \n",
    "    df_index = df_metrics[df_metrics[\"model\"]==model_name].index\n",
    "    df_metrics.at[df_index[0],dataset]=score\n",
    "    df_metrics.to_csv(\"df_metrics.csv\",index=False)\n",
    "\n",
    "    cm = metrics.confusion_matrix(y_test, y_pred)\n",
    "    \n",
    "\n",
    "    # print(\"accuracy\\n\",cm.diagonal()/cm.sum(axis=1))\n"
   ]
  },
  {
   "cell_type": "code",
   "execution_count": 20,
   "id": "2eff28da",
   "metadata": {
    "ExecuteTime": {
     "end_time": "2023-03-06T15:00:29.698342Z",
     "start_time": "2023-03-06T15:00:29.690366Z"
    }
   },
   "outputs": [],
   "source": [
    "def train_pre_trained_models(dataset,X_train,y_train,X_test,y_test,input_shape=(75,75,3)):\n",
    "    \n",
    "    global model_benchmarks_map\n",
    "    model_benchmarks = {'model_name': [], 'num_model_params': [],'validation_accuracy': []}\n",
    "    model_dictionary = get_pre_trained_models()\n",
    "    \n",
    "    print(f\"total_models = \",len(model_dictionary))\n",
    "    for model_name, pre_train_model in tqdm(model_dictionary.items()):\n",
    "        \n",
    "        # load the pre-trained model with global average pooling as the last layer and freeze the model weights\n",
    "        base_model = pre_train_model(weights='imagenet', include_top=False,input_shape=input_shape)\n",
    "        # add a global spatial average pooling layer\n",
    "        x = base_model.output\n",
    "        x = GlobalAveragePooling2D()(x)\n",
    "        # let's add a fully-connected layer\n",
    "        x = Dense(128, activation='relu')(x)\n",
    "        # and a logistic layer -4 classes\n",
    "        predictions = Dense(4, activation='softmax')(x)\n",
    "\n",
    "        # this is the model we will train\n",
    "        model = Model(inputs=base_model.input, outputs=predictions)\n",
    "        # print(f\"{model_name} loaded.\")\n",
    "        # first: train only the top layers (which were randomly initialized)\n",
    "        # i.e. freeze all convolutional  layers\n",
    "        for layer in base_model.layers:\n",
    "            layer.trainable = False     \n",
    "\n",
    "        optimizer = RMSprop(lr=0.001, rho=0.9, epsilon=1e-08, decay=0.0001)\n",
    "        model.compile(optimizer=optimizer, loss='sparse_categorical_crossentropy', metrics=['sparse_categorical_accuracy'])\n",
    "    \n",
    "        history = model.fit(X_train,y_train, batch_size = 32, epochs = 10, verbose = 0,  validation_data = (X_test,y_test))\n",
    "        # model.save(f\"models/{dataset}_{model_name}_cnn\")\n",
    "        print(f'{dataset}_{model_name}_cnn')\n",
    "        get_class_accuracy(model,dataset, X_train,y_train,X_test,y_test,model_name)\n",
    "        \n",
    "        \n",
    "        model_benchmarks['model_name'].append(model_name)\n",
    "        model_benchmarks['num_model_params'].append(base_model.count_params())\n",
    "\n",
    "        model_benchmarks['validation_accuracy'].append(max(history.history['val_sparse_categorical_accuracy']))\n",
    "        # print(f\"{model_name} accuracy: {np.round(max(history.history['val_sparse_categorical_accuracy']),2)}\")\n",
    "        benchmark_df = pd.DataFrame(model_benchmarks)\n",
    "        benchmark_df.sort_values('validation_accuracy', inplace=True) # sort in ascending order of validation_accuracy column\n",
    "        model_benchmarks_map[dataset] = benchmark_df"
   ]
  },
  {
   "cell_type": "markdown",
   "id": "063620cc",
   "metadata": {},
   "source": [
    "## Train Pre Trained Models"
   ]
  },
  {
   "cell_type": "code",
   "execution_count": 21,
   "id": "6adde146",
   "metadata": {},
   "outputs": [],
   "source": [
    "# for dataset in  np.flip(sources):\n",
    "#     print(\"---Sources----\",dataset)\n",
    "#     X_train,y_train,X_test,y_test = get_train_test_data(source_data, dataset)\n",
    "\n",
    "    "
   ]
  },
  {
   "cell_type": "code",
   "execution_count": 22,
   "id": "ccd844df",
   "metadata": {},
   "outputs": [
    {
     "name": "stdout",
     "output_type": "stream",
     "text": [
      "[PhysicalDevice(name='/physical_device:GPU:0', device_type='GPU')]\n",
      "Num GPUs Available:  1\n"
     ]
    }
   ],
   "source": [
    "\n",
    "import tensorflow as tf\n",
    "print(tf.config.list_physical_devices('GPU'))\n",
    "print(\"Num GPUs Available: \", len(tf.config.list_physical_devices('GPU')))\n",
    "# tf.debugging.set_log_device_placement(True)\n"
   ]
  },
  {
   "cell_type": "code",
   "execution_count": 23,
   "id": "7bac4977",
   "metadata": {},
   "outputs": [
    {
     "data": {
      "text/html": [
       "<div>\n",
       "<style scoped>\n",
       "    .dataframe tbody tr th:only-of-type {\n",
       "        vertical-align: middle;\n",
       "    }\n",
       "\n",
       "    .dataframe tbody tr th {\n",
       "        vertical-align: top;\n",
       "    }\n",
       "\n",
       "    .dataframe thead th {\n",
       "        text-align: right;\n",
       "    }\n",
       "</style>\n",
       "<table border=\"1\" class=\"dataframe\">\n",
       "  <thead>\n",
       "    <tr style=\"text-align: right;\">\n",
       "      <th></th>\n",
       "      <th>emotion</th>\n",
       "      <th>source</th>\n",
       "      <th>path</th>\n",
       "      <th>augmented</th>\n",
       "      <th>emotion_class</th>\n",
       "    </tr>\n",
       "  </thead>\n",
       "  <tbody>\n",
       "    <tr>\n",
       "      <th>0</th>\n",
       "      <td>happy</td>\n",
       "      <td>IEMOCAP</td>\n",
       "      <td>../mfcc_images/IEMOCAP/Session1/sentences/wav/...</td>\n",
       "      <td>0</td>\n",
       "      <td>1</td>\n",
       "    </tr>\n",
       "    <tr>\n",
       "      <th>1</th>\n",
       "      <td>happy</td>\n",
       "      <td>IEMOCAP</td>\n",
       "      <td>../mfcc_images/IEMOCAP/Session1/sentences/wav/...</td>\n",
       "      <td>0</td>\n",
       "      <td>1</td>\n",
       "    </tr>\n",
       "    <tr>\n",
       "      <th>2</th>\n",
       "      <td>happy</td>\n",
       "      <td>IEMOCAP</td>\n",
       "      <td>../mfcc_images/IEMOCAP/Session1/sentences/wav/...</td>\n",
       "      <td>0</td>\n",
       "      <td>1</td>\n",
       "    </tr>\n",
       "    <tr>\n",
       "      <th>3</th>\n",
       "      <td>happy</td>\n",
       "      <td>IEMOCAP</td>\n",
       "      <td>../mfcc_images/IEMOCAP/Session1/sentences/wav/...</td>\n",
       "      <td>0</td>\n",
       "      <td>1</td>\n",
       "    </tr>\n",
       "    <tr>\n",
       "      <th>4</th>\n",
       "      <td>happy</td>\n",
       "      <td>IEMOCAP</td>\n",
       "      <td>../mfcc_images/IEMOCAP/Session1/sentences/wav/...</td>\n",
       "      <td>0</td>\n",
       "      <td>1</td>\n",
       "    </tr>\n",
       "    <tr>\n",
       "      <th>...</th>\n",
       "      <td>...</td>\n",
       "      <td>...</td>\n",
       "      <td>...</td>\n",
       "      <td>...</td>\n",
       "      <td>...</td>\n",
       "    </tr>\n",
       "    <tr>\n",
       "      <th>7087</th>\n",
       "      <td>sad</td>\n",
       "      <td>RAVDESS</td>\n",
       "      <td>../mfcc_images_20db/RAVDESS/Actor_24/03-01-04-...</td>\n",
       "      <td>20</td>\n",
       "      <td>3</td>\n",
       "    </tr>\n",
       "    <tr>\n",
       "      <th>7088</th>\n",
       "      <td>sad</td>\n",
       "      <td>RAVDESS</td>\n",
       "      <td>../mfcc_images_20db/RAVDESS/Actor_18/03-01-04-...</td>\n",
       "      <td>20</td>\n",
       "      <td>3</td>\n",
       "    </tr>\n",
       "    <tr>\n",
       "      <th>7089</th>\n",
       "      <td>sad</td>\n",
       "      <td>RAVDESS</td>\n",
       "      <td>../mfcc_images_20db/RAVDESS/Actor_01/03-01-04-...</td>\n",
       "      <td>20</td>\n",
       "      <td>3</td>\n",
       "    </tr>\n",
       "    <tr>\n",
       "      <th>7090</th>\n",
       "      <td>sad</td>\n",
       "      <td>RAVDESS</td>\n",
       "      <td>../mfcc_images_20db/RAVDESS/Actor_21/03-01-04-...</td>\n",
       "      <td>20</td>\n",
       "      <td>3</td>\n",
       "    </tr>\n",
       "    <tr>\n",
       "      <th>7091</th>\n",
       "      <td>sad</td>\n",
       "      <td>RAVDESS</td>\n",
       "      <td>../mfcc_images_20db/RAVDESS/Actor_18/03-01-04-...</td>\n",
       "      <td>20</td>\n",
       "      <td>3</td>\n",
       "    </tr>\n",
       "  </tbody>\n",
       "</table>\n",
       "<p>7092 rows × 5 columns</p>\n",
       "</div>"
      ],
      "text/plain": [
       "     emotion   source                                               path  \\\n",
       "0      happy  IEMOCAP  ../mfcc_images/IEMOCAP/Session1/sentences/wav/...   \n",
       "1      happy  IEMOCAP  ../mfcc_images/IEMOCAP/Session1/sentences/wav/...   \n",
       "2      happy  IEMOCAP  ../mfcc_images/IEMOCAP/Session1/sentences/wav/...   \n",
       "3      happy  IEMOCAP  ../mfcc_images/IEMOCAP/Session1/sentences/wav/...   \n",
       "4      happy  IEMOCAP  ../mfcc_images/IEMOCAP/Session1/sentences/wav/...   \n",
       "...      ...      ...                                                ...   \n",
       "7087     sad  RAVDESS  ../mfcc_images_20db/RAVDESS/Actor_24/03-01-04-...   \n",
       "7088     sad  RAVDESS  ../mfcc_images_20db/RAVDESS/Actor_18/03-01-04-...   \n",
       "7089     sad  RAVDESS  ../mfcc_images_20db/RAVDESS/Actor_01/03-01-04-...   \n",
       "7090     sad  RAVDESS  ../mfcc_images_20db/RAVDESS/Actor_21/03-01-04-...   \n",
       "7091     sad  RAVDESS  ../mfcc_images_20db/RAVDESS/Actor_18/03-01-04-...   \n",
       "\n",
       "      augmented  emotion_class  \n",
       "0             0              1  \n",
       "1             0              1  \n",
       "2             0              1  \n",
       "3             0              1  \n",
       "4             0              1  \n",
       "...         ...            ...  \n",
       "7087         20              3  \n",
       "7088         20              3  \n",
       "7089         20              3  \n",
       "7090         20              3  \n",
       "7091         20              3  \n",
       "\n",
       "[7092 rows x 5 columns]"
      ]
     },
     "execution_count": 23,
     "metadata": {},
     "output_type": "execute_result"
    }
   ],
   "source": [
    "source_data"
   ]
  },
  {
   "cell_type": "code",
   "execution_count": null,
   "id": "f18d5f4a",
   "metadata": {},
   "outputs": [],
   "source": []
  },
  {
   "cell_type": "code",
   "execution_count": 24,
   "id": "e13c8edd",
   "metadata": {},
   "outputs": [
    {
     "name": "stdout",
     "output_type": "stream",
     "text": [
      "augmented\n",
      "0    672\n",
      "Name: count, dtype: int64\n",
      "(384, 3)\n",
      "augmented\n",
      "0    315\n",
      "Name: count, dtype: int64\n",
      "total_models =  10\n"
     ]
    },
    {
     "name": "stderr",
     "output_type": "stream",
     "text": [
      "  0%|          | 0/10 [00:00<?, ?it/s]"
     ]
    },
    {
     "name": "stdout",
     "output_type": "stream",
     "text": [
      "Metal device set to: Apple M1\n",
      "\n",
      "systemMemory: 8.00 GB\n",
      "maxCacheSize: 2.67 GB\n",
      "\n"
     ]
    },
    {
     "name": "stderr",
     "output_type": "stream",
     "text": [
      "/Users/sudhanshu_shukla/miniconda3/envs/tensorflow-gpu/lib/python3.10/site-packages/keras/optimizers/optimizer_v2/rmsprop.py:135: UserWarning: The `lr` argument is deprecated, use `learning_rate` instead.\n",
      "  super(RMSprop, self).__init__(name, **kwargs)\n"
     ]
    },
    {
     "name": "stdout",
     "output_type": "stream",
     "text": [
      "RAVDESS_DenseNet121_cnn\n",
      "3/3 [==============================] - 3s 586ms/step\n"
     ]
    },
    {
     "name": "stderr",
     "output_type": "stream",
     "text": [
      " 10%|█         | 1/10 [00:20<03:03, 20.36s/it]"
     ]
    },
    {
     "name": "stdout",
     "output_type": "stream",
     "text": [
      "\n",
      "Accuracy: 0.58\n",
      "\n",
      "accuracy:   0.584\n"
     ]
    },
    {
     "name": "stderr",
     "output_type": "stream",
     "text": [
      "/Users/sudhanshu_shukla/miniconda3/envs/tensorflow-gpu/lib/python3.10/site-packages/keras/optimizers/optimizer_v2/rmsprop.py:135: UserWarning: The `lr` argument is deprecated, use `learning_rate` instead.\n",
      "  super(RMSprop, self).__init__(name, **kwargs)\n"
     ]
    },
    {
     "name": "stdout",
     "output_type": "stream",
     "text": [
      "RAVDESS_DenseNet169_cnn\n",
      "3/3 [==============================] - 6s 798ms/step\n"
     ]
    },
    {
     "name": "stderr",
     "output_type": "stream",
     "text": [
      " 20%|██        | 2/10 [00:56<03:58, 29.78s/it]"
     ]
    },
    {
     "name": "stdout",
     "output_type": "stream",
     "text": [
      "\n",
      "Accuracy: 0.62\n",
      "\n",
      "accuracy:   0.623\n"
     ]
    },
    {
     "name": "stderr",
     "output_type": "stream",
     "text": [
      "/Users/sudhanshu_shukla/miniconda3/envs/tensorflow-gpu/lib/python3.10/site-packages/keras/optimizers/optimizer_v2/rmsprop.py:135: UserWarning: The `lr` argument is deprecated, use `learning_rate` instead.\n",
      "  super(RMSprop, self).__init__(name, **kwargs)\n"
     ]
    },
    {
     "name": "stdout",
     "output_type": "stream",
     "text": [
      "RAVDESS_DenseNet201_cnn\n",
      "3/3 [==============================] - 11s 2s/step\n"
     ]
    },
    {
     "name": "stderr",
     "output_type": "stream",
     "text": [
      " 30%|███       | 3/10 [01:56<05:05, 43.69s/it]"
     ]
    },
    {
     "name": "stdout",
     "output_type": "stream",
     "text": [
      "\n",
      "Accuracy: 0.58\n",
      "\n",
      "accuracy:   0.584\n"
     ]
    },
    {
     "name": "stderr",
     "output_type": "stream",
     "text": [
      "/Users/sudhanshu_shukla/miniconda3/envs/tensorflow-gpu/lib/python3.10/site-packages/keras/optimizers/optimizer_v2/rmsprop.py:135: UserWarning: The `lr` argument is deprecated, use `learning_rate` instead.\n",
      "  super(RMSprop, self).__init__(name, **kwargs)\n"
     ]
    },
    {
     "name": "stdout",
     "output_type": "stream",
     "text": [
      "RAVDESS_InceptionV3_cnn\n",
      "3/3 [==============================] - 8s 1s/step\n"
     ]
    },
    {
     "name": "stderr",
     "output_type": "stream",
     "text": [
      " 40%|████      | 4/10 [02:34<04:06, 41.17s/it]"
     ]
    },
    {
     "name": "stdout",
     "output_type": "stream",
     "text": [
      "\n",
      "Accuracy: 0.47\n",
      "\n",
      "accuracy:   0.468\n",
      "WARNING:tensorflow:`input_shape` is undefined or non-square, or `rows` is not in [128, 160, 192, 224]. Weights for input shape (224, 224) will be loaded as the default.\n"
     ]
    },
    {
     "name": "stderr",
     "output_type": "stream",
     "text": [
      "/Users/sudhanshu_shukla/miniconda3/envs/tensorflow-gpu/lib/python3.10/site-packages/keras/optimizers/optimizer_v2/rmsprop.py:135: UserWarning: The `lr` argument is deprecated, use `learning_rate` instead.\n",
      "  super(RMSprop, self).__init__(name, **kwargs)\n"
     ]
    },
    {
     "name": "stdout",
     "output_type": "stream",
     "text": [
      "RAVDESS_MobileNet_cnn\n",
      "WARNING:tensorflow:5 out of the last 13 calls to <function Model.make_predict_function.<locals>.predict_function at 0x29b3f6440> triggered tf.function retracing. Tracing is expensive and the excessive number of tracings could be due to (1) creating @tf.function repeatedly in a loop, (2) passing tensors with different shapes, (3) passing Python objects instead of tensors. For (1), please define your @tf.function outside of the loop. For (2), @tf.function has reduce_retracing=True option that can avoid unnecessary retracing. For (3), please refer to https://www.tensorflow.org/guide/function#controlling_retracing and https://www.tensorflow.org/api_docs/python/tf/function for  more details.\n",
      "3/3 [==============================] - 2s 474ms/step\n"
     ]
    },
    {
     "name": "stderr",
     "output_type": "stream",
     "text": [
      " 50%|█████     | 5/10 [02:46<02:33, 30.77s/it]"
     ]
    },
    {
     "name": "stdout",
     "output_type": "stream",
     "text": [
      "\n",
      "Accuracy: 0.56\n",
      "\n",
      "accuracy:   0.558\n"
     ]
    },
    {
     "name": "stderr",
     "output_type": "stream",
     "text": [
      "/Users/sudhanshu_shukla/miniconda3/envs/tensorflow-gpu/lib/python3.10/site-packages/keras/optimizers/optimizer_v2/rmsprop.py:135: UserWarning: The `lr` argument is deprecated, use `learning_rate` instead.\n",
      "  super(RMSprop, self).__init__(name, **kwargs)\n"
     ]
    },
    {
     "name": "stdout",
     "output_type": "stream",
     "text": [
      "RAVDESS_ResNet152V2_cnn\n",
      "WARNING:tensorflow:5 out of the last 13 calls to <function Model.make_predict_function.<locals>.predict_function at 0x372ca3880> triggered tf.function retracing. Tracing is expensive and the excessive number of tracings could be due to (1) creating @tf.function repeatedly in a loop, (2) passing tensors with different shapes, (3) passing Python objects instead of tensors. For (1), please define your @tf.function outside of the loop. For (2), @tf.function has reduce_retracing=True option that can avoid unnecessary retracing. For (3), please refer to https://www.tensorflow.org/guide/function#controlling_retracing and https://www.tensorflow.org/api_docs/python/tf/function for  more details.\n",
      "3/3 [==============================] - 16s 4s/step\n"
     ]
    },
    {
     "name": "stderr",
     "output_type": "stream",
     "text": [
      " 60%|██████    | 6/10 [04:03<03:06, 46.51s/it]"
     ]
    },
    {
     "name": "stdout",
     "output_type": "stream",
     "text": [
      "\n",
      "Accuracy: 0.48\n",
      "\n",
      "accuracy:   0.481\n"
     ]
    },
    {
     "name": "stderr",
     "output_type": "stream",
     "text": [
      "/Users/sudhanshu_shukla/miniconda3/envs/tensorflow-gpu/lib/python3.10/site-packages/keras/optimizers/optimizer_v2/rmsprop.py:135: UserWarning: The `lr` argument is deprecated, use `learning_rate` instead.\n",
      "  super(RMSprop, self).__init__(name, **kwargs)\n"
     ]
    },
    {
     "name": "stdout",
     "output_type": "stream",
     "text": [
      "RAVDESS_ResNet50V2_cnn\n",
      "3/3 [==============================] - 5s 1s/step\n"
     ]
    },
    {
     "name": "stderr",
     "output_type": "stream",
     "text": [
      " 70%|███████   | 7/10 [04:34<02:04, 41.51s/it]"
     ]
    },
    {
     "name": "stdout",
     "output_type": "stream",
     "text": [
      "\n",
      "Accuracy: 0.58\n",
      "\n",
      "accuracy:   0.584\n"
     ]
    },
    {
     "name": "stderr",
     "output_type": "stream",
     "text": [
      "/Users/sudhanshu_shukla/miniconda3/envs/tensorflow-gpu/lib/python3.10/site-packages/keras/optimizers/optimizer_v2/rmsprop.py:135: UserWarning: The `lr` argument is deprecated, use `learning_rate` instead.\n",
      "  super(RMSprop, self).__init__(name, **kwargs)\n"
     ]
    },
    {
     "name": "stdout",
     "output_type": "stream",
     "text": [
      "RAVDESS_VGG16_cnn\n",
      "3/3 [==============================] - 2s 366ms/step\n"
     ]
    },
    {
     "name": "stderr",
     "output_type": "stream",
     "text": [
      " 80%|████████  | 8/10 [04:52<01:07, 33.93s/it]"
     ]
    },
    {
     "name": "stdout",
     "output_type": "stream",
     "text": [
      "\n",
      "Accuracy: 0.44\n",
      "\n",
      "accuracy:   0.442\n"
     ]
    },
    {
     "name": "stderr",
     "output_type": "stream",
     "text": [
      "/Users/sudhanshu_shukla/miniconda3/envs/tensorflow-gpu/lib/python3.10/site-packages/keras/optimizers/optimizer_v2/rmsprop.py:135: UserWarning: The `lr` argument is deprecated, use `learning_rate` instead.\n",
      "  super(RMSprop, self).__init__(name, **kwargs)\n"
     ]
    },
    {
     "name": "stdout",
     "output_type": "stream",
     "text": [
      "RAVDESS_VGG19_cnn\n",
      "3/3 [==============================] - 2s 517ms/step\n"
     ]
    },
    {
     "name": "stderr",
     "output_type": "stream",
     "text": [
      " 90%|█████████ | 9/10 [05:13<00:29, 29.82s/it]"
     ]
    },
    {
     "name": "stdout",
     "output_type": "stream",
     "text": [
      "\n",
      "Accuracy: 0.30\n",
      "\n",
      "accuracy:   0.299\n"
     ]
    },
    {
     "name": "stderr",
     "output_type": "stream",
     "text": [
      "/Users/sudhanshu_shukla/miniconda3/envs/tensorflow-gpu/lib/python3.10/site-packages/keras/optimizers/optimizer_v2/rmsprop.py:135: UserWarning: The `lr` argument is deprecated, use `learning_rate` instead.\n",
      "  super(RMSprop, self).__init__(name, **kwargs)\n"
     ]
    },
    {
     "name": "stdout",
     "output_type": "stream",
     "text": [
      "RAVDESS_Xception_cnn\n",
      "3/3 [==============================] - 4s 894ms/step\n"
     ]
    },
    {
     "name": "stderr",
     "output_type": "stream",
     "text": [
      "100%|██████████| 10/10 [05:48<00:00, 34.88s/it]"
     ]
    },
    {
     "name": "stdout",
     "output_type": "stream",
     "text": [
      "\n",
      "Accuracy: 0.56\n",
      "\n",
      "accuracy:   0.558\n",
      "augmented\n",
      "0    240\n",
      "Name: count, dtype: int64\n",
      "(240, 3)\n",
      "augmented\n",
      "0    197\n",
      "Name: count, dtype: int64\n"
     ]
    },
    {
     "name": "stderr",
     "output_type": "stream",
     "text": [
      "\n"
     ]
    },
    {
     "name": "stdout",
     "output_type": "stream",
     "text": [
      "total_models =  10\n"
     ]
    },
    {
     "name": "stderr",
     "output_type": "stream",
     "text": [
      "  0%|          | 0/10 [00:00<?, ?it/s]/Users/sudhanshu_shukla/miniconda3/envs/tensorflow-gpu/lib/python3.10/site-packages/keras/optimizers/optimizer_v2/rmsprop.py:135: UserWarning: The `lr` argument is deprecated, use `learning_rate` instead.\n",
      "  super(RMSprop, self).__init__(name, **kwargs)\n"
     ]
    },
    {
     "name": "stdout",
     "output_type": "stream",
     "text": [
      "SAVEE_DenseNet121_cnn\n",
      "2/2 [==============================] - 11s 5s/step\n"
     ]
    },
    {
     "name": "stderr",
     "output_type": "stream",
     "text": [
      " 10%|█         | 1/10 [00:59<08:59, 59.93s/it]"
     ]
    },
    {
     "name": "stdout",
     "output_type": "stream",
     "text": [
      "\n",
      "Accuracy: 0.38\n",
      "\n",
      "accuracy:   0.375\n"
     ]
    },
    {
     "name": "stderr",
     "output_type": "stream",
     "text": [
      "/Users/sudhanshu_shukla/miniconda3/envs/tensorflow-gpu/lib/python3.10/site-packages/keras/optimizers/optimizer_v2/rmsprop.py:135: UserWarning: The `lr` argument is deprecated, use `learning_rate` instead.\n",
      "  super(RMSprop, self).__init__(name, **kwargs)\n"
     ]
    },
    {
     "name": "stdout",
     "output_type": "stream",
     "text": [
      "SAVEE_DenseNet169_cnn\n",
      "2/2 [==============================] - 27s 13s/step\n"
     ]
    },
    {
     "name": "stderr",
     "output_type": "stream",
     "text": [
      " 20%|██        | 2/10 [02:52<12:07, 90.92s/it]"
     ]
    },
    {
     "name": "stdout",
     "output_type": "stream",
     "text": [
      "\n",
      "Accuracy: 0.46\n",
      "\n",
      "accuracy:   0.458\n"
     ]
    },
    {
     "name": "stderr",
     "output_type": "stream",
     "text": [
      "/Users/sudhanshu_shukla/miniconda3/envs/tensorflow-gpu/lib/python3.10/site-packages/keras/optimizers/optimizer_v2/rmsprop.py:135: UserWarning: The `lr` argument is deprecated, use `learning_rate` instead.\n",
      "  super(RMSprop, self).__init__(name, **kwargs)\n"
     ]
    },
    {
     "name": "stdout",
     "output_type": "stream",
     "text": [
      "SAVEE_DenseNet201_cnn\n",
      "2/2 [==============================] - 39s 16s/step\n"
     ]
    },
    {
     "name": "stderr",
     "output_type": "stream",
     "text": [
      " 30%|███       | 3/10 [05:54<15:28, 132.64s/it]"
     ]
    },
    {
     "name": "stdout",
     "output_type": "stream",
     "text": [
      "\n",
      "Accuracy: 0.38\n",
      "\n",
      "accuracy:   0.375\n"
     ]
    },
    {
     "name": "stderr",
     "output_type": "stream",
     "text": [
      "/Users/sudhanshu_shukla/miniconda3/envs/tensorflow-gpu/lib/python3.10/site-packages/keras/optimizers/optimizer_v2/rmsprop.py:135: UserWarning: The `lr` argument is deprecated, use `learning_rate` instead.\n",
      "  super(RMSprop, self).__init__(name, **kwargs)\n"
     ]
    },
    {
     "name": "stdout",
     "output_type": "stream",
     "text": [
      "SAVEE_InceptionV3_cnn\n",
      "2/2 [==============================] - 22s 9s/step\n"
     ]
    },
    {
     "name": "stderr",
     "output_type": "stream",
     "text": [
      " 40%|████      | 4/10 [07:23<11:32, 115.34s/it]"
     ]
    },
    {
     "name": "stdout",
     "output_type": "stream",
     "text": [
      "\n",
      "Accuracy: 0.42\n",
      "\n",
      "accuracy:   0.417\n",
      "WARNING:tensorflow:`input_shape` is undefined or non-square, or `rows` is not in [128, 160, 192, 224]. Weights for input shape (224, 224) will be loaded as the default.\n"
     ]
    },
    {
     "name": "stderr",
     "output_type": "stream",
     "text": [
      "/Users/sudhanshu_shukla/miniconda3/envs/tensorflow-gpu/lib/python3.10/site-packages/keras/optimizers/optimizer_v2/rmsprop.py:135: UserWarning: The `lr` argument is deprecated, use `learning_rate` instead.\n",
      "  super(RMSprop, self).__init__(name, **kwargs)\n"
     ]
    },
    {
     "name": "stdout",
     "output_type": "stream",
     "text": [
      "SAVEE_MobileNet_cnn\n",
      "2/2 [==============================] - 4s 1s/step\n"
     ]
    },
    {
     "name": "stderr",
     "output_type": "stream",
     "text": [
      " 50%|█████     | 5/10 [07:53<07:01, 84.34s/it] "
     ]
    },
    {
     "name": "stdout",
     "output_type": "stream",
     "text": [
      "\n",
      "Accuracy: 0.33\n",
      "\n",
      "accuracy:   0.333\n"
     ]
    },
    {
     "name": "stderr",
     "output_type": "stream",
     "text": [
      "/Users/sudhanshu_shukla/miniconda3/envs/tensorflow-gpu/lib/python3.10/site-packages/keras/optimizers/optimizer_v2/rmsprop.py:135: UserWarning: The `lr` argument is deprecated, use `learning_rate` instead.\n",
      "  super(RMSprop, self).__init__(name, **kwargs)\n"
     ]
    },
    {
     "name": "stdout",
     "output_type": "stream",
     "text": [
      "SAVEE_ResNet152V2_cnn\n",
      "2/2 [==============================] - 40s 18s/step\n"
     ]
    },
    {
     "name": "stderr",
     "output_type": "stream",
     "text": [
      " 60%|██████    | 6/10 [11:01<07:59, 119.77s/it]"
     ]
    },
    {
     "name": "stdout",
     "output_type": "stream",
     "text": [
      "\n",
      "Accuracy: 0.46\n",
      "\n",
      "accuracy:   0.458\n"
     ]
    },
    {
     "name": "stderr",
     "output_type": "stream",
     "text": [
      "/Users/sudhanshu_shukla/miniconda3/envs/tensorflow-gpu/lib/python3.10/site-packages/keras/optimizers/optimizer_v2/rmsprop.py:135: UserWarning: The `lr` argument is deprecated, use `learning_rate` instead.\n",
      "  super(RMSprop, self).__init__(name, **kwargs)\n"
     ]
    },
    {
     "name": "stdout",
     "output_type": "stream",
     "text": [
      "SAVEE_ResNet50V2_cnn\n",
      "2/2 [==============================] - 15s 7s/step\n"
     ]
    },
    {
     "name": "stderr",
     "output_type": "stream",
     "text": [
      " 70%|███████   | 7/10 [12:06<05:05, 101.74s/it]"
     ]
    },
    {
     "name": "stdout",
     "output_type": "stream",
     "text": [
      "\n",
      "Accuracy: 0.33\n",
      "\n",
      "accuracy:   0.333\n"
     ]
    },
    {
     "name": "stderr",
     "output_type": "stream",
     "text": [
      "/Users/sudhanshu_shukla/miniconda3/envs/tensorflow-gpu/lib/python3.10/site-packages/keras/optimizers/optimizer_v2/rmsprop.py:135: UserWarning: The `lr` argument is deprecated, use `learning_rate` instead.\n",
      "  super(RMSprop, self).__init__(name, **kwargs)\n"
     ]
    },
    {
     "name": "stdout",
     "output_type": "stream",
     "text": [
      "SAVEE_VGG16_cnn\n",
      "2/2 [==============================] - 4s 2s/step\n"
     ]
    },
    {
     "name": "stderr",
     "output_type": "stream",
     "text": [
      " 80%|████████  | 8/10 [12:36<02:38, 79.02s/it] "
     ]
    },
    {
     "name": "stdout",
     "output_type": "stream",
     "text": [
      "\n",
      "Accuracy: 0.25\n",
      "\n",
      "accuracy:   0.250\n"
     ]
    },
    {
     "name": "stderr",
     "output_type": "stream",
     "text": [
      "/Users/sudhanshu_shukla/miniconda3/envs/tensorflow-gpu/lib/python3.10/site-packages/keras/optimizers/optimizer_v2/rmsprop.py:135: UserWarning: The `lr` argument is deprecated, use `learning_rate` instead.\n",
      "  super(RMSprop, self).__init__(name, **kwargs)\n"
     ]
    },
    {
     "name": "stdout",
     "output_type": "stream",
     "text": [
      "SAVEE_VGG19_cnn\n",
      "2/2 [==============================] - 5s 2s/step\n"
     ]
    },
    {
     "name": "stderr",
     "output_type": "stream",
     "text": [
      " 90%|█████████ | 9/10 [13:24<01:09, 69.23s/it]"
     ]
    },
    {
     "name": "stdout",
     "output_type": "stream",
     "text": [
      "\n",
      "Accuracy: 0.33\n",
      "\n",
      "accuracy:   0.333\n"
     ]
    },
    {
     "name": "stderr",
     "output_type": "stream",
     "text": [
      "/Users/sudhanshu_shukla/miniconda3/envs/tensorflow-gpu/lib/python3.10/site-packages/keras/optimizers/optimizer_v2/rmsprop.py:135: UserWarning: The `lr` argument is deprecated, use `learning_rate` instead.\n",
      "  super(RMSprop, self).__init__(name, **kwargs)\n"
     ]
    },
    {
     "name": "stdout",
     "output_type": "stream",
     "text": [
      "SAVEE_Xception_cnn\n",
      "2/2 [==============================] - 16s 6s/step\n"
     ]
    },
    {
     "name": "stderr",
     "output_type": "stream",
     "text": [
      "100%|██████████| 10/10 [14:27<00:00, 86.71s/it]"
     ]
    },
    {
     "name": "stdout",
     "output_type": "stream",
     "text": [
      "\n",
      "Accuracy: 0.52\n",
      "\n",
      "accuracy:   0.521\n",
      "augmented\n",
      "0    420\n",
      "Name: count, dtype: int64\n",
      "(284, 3)\n",
      "augmented\n",
      "0    233\n",
      "Name: count, dtype: int64\n"
     ]
    },
    {
     "name": "stderr",
     "output_type": "stream",
     "text": [
      "\n"
     ]
    },
    {
     "name": "stdout",
     "output_type": "stream",
     "text": [
      "total_models =  10\n"
     ]
    },
    {
     "name": "stderr",
     "output_type": "stream",
     "text": [
      "  0%|          | 0/10 [00:00<?, ?it/s]/Users/sudhanshu_shukla/miniconda3/envs/tensorflow-gpu/lib/python3.10/site-packages/keras/optimizers/optimizer_v2/rmsprop.py:135: UserWarning: The `lr` argument is deprecated, use `learning_rate` instead.\n",
      "  super(RMSprop, self).__init__(name, **kwargs)\n"
     ]
    },
    {
     "name": "stdout",
     "output_type": "stream",
     "text": [
      "EMODB_DenseNet121_cnn\n",
      "2/2 [==============================] - 27s 12s/step\n"
     ]
    },
    {
     "name": "stderr",
     "output_type": "stream",
     "text": [
      " 10%|█         | 1/10 [02:17<20:37, 137.50s/it]"
     ]
    },
    {
     "name": "stdout",
     "output_type": "stream",
     "text": [
      "\n",
      "Accuracy: 0.49\n",
      "\n",
      "accuracy:   0.491\n"
     ]
    },
    {
     "name": "stderr",
     "output_type": "stream",
     "text": [
      "/Users/sudhanshu_shukla/miniconda3/envs/tensorflow-gpu/lib/python3.10/site-packages/keras/optimizers/optimizer_v2/rmsprop.py:135: UserWarning: The `lr` argument is deprecated, use `learning_rate` instead.\n",
      "  super(RMSprop, self).__init__(name, **kwargs)\n"
     ]
    },
    {
     "name": "stdout",
     "output_type": "stream",
     "text": [
      "EMODB_DenseNet169_cnn\n",
      "2/2 [==============================] - 56s 30s/step\n"
     ]
    },
    {
     "name": "stderr",
     "output_type": "stream",
     "text": [
      " 20%|██        | 2/10 [06:02<25:12, 189.06s/it]"
     ]
    },
    {
     "name": "stdout",
     "output_type": "stream",
     "text": [
      "\n",
      "Accuracy: 0.42\n",
      "\n",
      "accuracy:   0.421\n"
     ]
    },
    {
     "name": "stderr",
     "output_type": "stream",
     "text": [
      "/Users/sudhanshu_shukla/miniconda3/envs/tensorflow-gpu/lib/python3.10/site-packages/keras/optimizers/optimizer_v2/rmsprop.py:135: UserWarning: The `lr` argument is deprecated, use `learning_rate` instead.\n",
      "  super(RMSprop, self).__init__(name, **kwargs)\n"
     ]
    },
    {
     "name": "stdout",
     "output_type": "stream",
     "text": [
      "EMODB_DenseNet201_cnn\n",
      "2/2 [==============================] - 65s 32s/step\n"
     ]
    },
    {
     "name": "stderr",
     "output_type": "stream",
     "text": [
      " 30%|███       | 3/10 [10:33<26:25, 226.45s/it]"
     ]
    },
    {
     "name": "stdout",
     "output_type": "stream",
     "text": [
      "\n",
      "Accuracy: 0.49\n",
      "\n",
      "accuracy:   0.491\n"
     ]
    },
    {
     "name": "stderr",
     "output_type": "stream",
     "text": [
      "/Users/sudhanshu_shukla/miniconda3/envs/tensorflow-gpu/lib/python3.10/site-packages/keras/optimizers/optimizer_v2/rmsprop.py:135: UserWarning: The `lr` argument is deprecated, use `learning_rate` instead.\n",
      "  super(RMSprop, self).__init__(name, **kwargs)\n"
     ]
    },
    {
     "name": "stdout",
     "output_type": "stream",
     "text": [
      "EMODB_InceptionV3_cnn\n",
      "2/2 [==============================] - 15s 4s/step\n"
     ]
    },
    {
     "name": "stderr",
     "output_type": "stream",
     "text": [
      " 40%|████      | 4/10 [13:33<20:48, 208.12s/it]"
     ]
    },
    {
     "name": "stdout",
     "output_type": "stream",
     "text": [
      "\n",
      "Accuracy: 0.46\n",
      "\n",
      "accuracy:   0.456\n",
      "WARNING:tensorflow:`input_shape` is undefined or non-square, or `rows` is not in [128, 160, 192, 224]. Weights for input shape (224, 224) will be loaded as the default.\n"
     ]
    },
    {
     "name": "stderr",
     "output_type": "stream",
     "text": [
      "/Users/sudhanshu_shukla/miniconda3/envs/tensorflow-gpu/lib/python3.10/site-packages/keras/optimizers/optimizer_v2/rmsprop.py:135: UserWarning: The `lr` argument is deprecated, use `learning_rate` instead.\n",
      "  super(RMSprop, self).__init__(name, **kwargs)\n"
     ]
    },
    {
     "name": "stdout",
     "output_type": "stream",
     "text": [
      "EMODB_MobileNet_cnn\n",
      "2/2 [==============================] - 9s 3s/step\n"
     ]
    },
    {
     "name": "stderr",
     "output_type": "stream",
     "text": [
      " 50%|█████     | 5/10 [14:32<12:52, 154.41s/it]"
     ]
    },
    {
     "name": "stdout",
     "output_type": "stream",
     "text": [
      "\n",
      "Accuracy: 0.65\n",
      "\n",
      "accuracy:   0.649\n"
     ]
    },
    {
     "name": "stderr",
     "output_type": "stream",
     "text": [
      "/Users/sudhanshu_shukla/miniconda3/envs/tensorflow-gpu/lib/python3.10/site-packages/keras/optimizers/optimizer_v2/rmsprop.py:135: UserWarning: The `lr` argument is deprecated, use `learning_rate` instead.\n",
      "  super(RMSprop, self).__init__(name, **kwargs)\n"
     ]
    },
    {
     "name": "stdout",
     "output_type": "stream",
     "text": [
      "EMODB_ResNet152V2_cnn\n",
      "2/2 [==============================] - 50s 13s/step\n"
     ]
    },
    {
     "name": "stderr",
     "output_type": "stream",
     "text": [
      " 60%|██████    | 6/10 [19:36<13:41, 205.29s/it]"
     ]
    },
    {
     "name": "stdout",
     "output_type": "stream",
     "text": [
      "\n",
      "Accuracy: 0.46\n",
      "\n",
      "accuracy:   0.456\n"
     ]
    },
    {
     "name": "stderr",
     "output_type": "stream",
     "text": [
      "/Users/sudhanshu_shukla/miniconda3/envs/tensorflow-gpu/lib/python3.10/site-packages/keras/optimizers/optimizer_v2/rmsprop.py:135: UserWarning: The `lr` argument is deprecated, use `learning_rate` instead.\n",
      "  super(RMSprop, self).__init__(name, **kwargs)\n"
     ]
    },
    {
     "name": "stdout",
     "output_type": "stream",
     "text": [
      "EMODB_ResNet50V2_cnn\n",
      "2/2 [==============================] - 25s 10s/step\n"
     ]
    },
    {
     "name": "stderr",
     "output_type": "stream",
     "text": [
      " 70%|███████   | 7/10 [21:47<09:02, 180.97s/it]"
     ]
    },
    {
     "name": "stdout",
     "output_type": "stream",
     "text": [
      "\n",
      "Accuracy: 0.56\n",
      "\n",
      "accuracy:   0.561\n"
     ]
    },
    {
     "name": "stderr",
     "output_type": "stream",
     "text": [
      "/Users/sudhanshu_shukla/miniconda3/envs/tensorflow-gpu/lib/python3.10/site-packages/keras/optimizers/optimizer_v2/rmsprop.py:135: UserWarning: The `lr` argument is deprecated, use `learning_rate` instead.\n",
      "  super(RMSprop, self).__init__(name, **kwargs)\n"
     ]
    },
    {
     "name": "stdout",
     "output_type": "stream",
     "text": [
      "EMODB_VGG16_cnn\n",
      "2/2 [==============================] - 8s 4s/step\n"
     ]
    },
    {
     "name": "stderr",
     "output_type": "stream",
     "text": [
      " 80%|████████  | 8/10 [22:45<04:43, 141.84s/it]"
     ]
    },
    {
     "name": "stdout",
     "output_type": "stream",
     "text": [
      "\n",
      "Accuracy: 0.37\n",
      "\n",
      "accuracy:   0.368\n"
     ]
    },
    {
     "name": "stderr",
     "output_type": "stream",
     "text": [
      "/Users/sudhanshu_shukla/miniconda3/envs/tensorflow-gpu/lib/python3.10/site-packages/keras/optimizers/optimizer_v2/rmsprop.py:135: UserWarning: The `lr` argument is deprecated, use `learning_rate` instead.\n",
      "  super(RMSprop, self).__init__(name, **kwargs)\n"
     ]
    },
    {
     "name": "stdout",
     "output_type": "stream",
     "text": [
      "EMODB_VGG19_cnn\n",
      "2/2 [==============================] - 5s 2s/step\n"
     ]
    },
    {
     "name": "stderr",
     "output_type": "stream",
     "text": [
      " 90%|█████████ | 9/10 [23:57<01:59, 119.77s/it]"
     ]
    },
    {
     "name": "stdout",
     "output_type": "stream",
     "text": [
      "\n",
      "Accuracy: 0.39\n",
      "\n",
      "accuracy:   0.386\n"
     ]
    },
    {
     "name": "stderr",
     "output_type": "stream",
     "text": [
      "/Users/sudhanshu_shukla/miniconda3/envs/tensorflow-gpu/lib/python3.10/site-packages/keras/optimizers/optimizer_v2/rmsprop.py:135: UserWarning: The `lr` argument is deprecated, use `learning_rate` instead.\n",
      "  super(RMSprop, self).__init__(name, **kwargs)\n"
     ]
    },
    {
     "name": "stdout",
     "output_type": "stream",
     "text": [
      "EMODB_Xception_cnn\n",
      "2/2 [==============================] - 21s 9s/step\n"
     ]
    },
    {
     "name": "stderr",
     "output_type": "stream",
     "text": [
      "100%|██████████| 10/10 [26:05<00:00, 156.53s/it]"
     ]
    },
    {
     "name": "stdout",
     "output_type": "stream",
     "text": [
      "\n",
      "Accuracy: 0.53\n",
      "\n",
      "accuracy:   0.526\n",
      "augmented\n",
      "0    3847\n",
      "Name: count, dtype: int64\n",
      "(2380, 3)\n",
      "augmented\n",
      "0    1952\n",
      "Name: count, dtype: int64\n"
     ]
    },
    {
     "name": "stderr",
     "output_type": "stream",
     "text": [
      "\n"
     ]
    },
    {
     "name": "stdout",
     "output_type": "stream",
     "text": [
      "total_models =  10\n"
     ]
    },
    {
     "name": "stderr",
     "output_type": "stream",
     "text": [
      "  0%|          | 0/10 [00:00<?, ?it/s]/Users/sudhanshu_shukla/miniconda3/envs/tensorflow-gpu/lib/python3.10/site-packages/keras/optimizers/optimizer_v2/rmsprop.py:135: UserWarning: The `lr` argument is deprecated, use `learning_rate` instead.\n",
      "  super(RMSprop, self).__init__(name, **kwargs)\n"
     ]
    },
    {
     "name": "stdout",
     "output_type": "stream",
     "text": [
      "IEMOCAP_DenseNet121_cnn\n",
      "15/15 [==============================] - 59s 2s/step\n"
     ]
    },
    {
     "name": "stderr",
     "output_type": "stream",
     "text": [
      " 10%|█         | 1/10 [12:26<1:52:02, 746.96s/it]"
     ]
    },
    {
     "name": "stdout",
     "output_type": "stream",
     "text": [
      "\n",
      "Accuracy: 0.52\n",
      "\n",
      "accuracy:   0.523\n"
     ]
    },
    {
     "name": "stderr",
     "output_type": "stream",
     "text": [
      "/Users/sudhanshu_shukla/miniconda3/envs/tensorflow-gpu/lib/python3.10/site-packages/keras/optimizers/optimizer_v2/rmsprop.py:135: UserWarning: The `lr` argument is deprecated, use `learning_rate` instead.\n",
      "  super(RMSprop, self).__init__(name, **kwargs)\n"
     ]
    },
    {
     "ename": "",
     "evalue": "",
     "output_type": "error",
     "traceback": [
      "\u001b[1;31mThe Kernel crashed while executing code in the current cell or a previous cell. \n",
      "\u001b[1;31mPlease review the code in the cell(s) to identify a possible cause of the failure. \n",
      "\u001b[1;31mClick <a href='https://aka.ms/vscodeJupyterKernelCrash'>here</a> for more info. \n",
      "\u001b[1;31mView Jupyter <a href='command:jupyter.viewOutput'>log</a> for further details."
     ]
    }
   ],
   "source": [
    "for dataset in  np.flip(sources):\n",
    "    X_train,y_train,X_test,y_test = get_train_test_data(source_data, dataset)\n",
    "    train_pre_trained_models(dataset,X_train,y_train,X_test,y_test)\n",
    "    \n",
    "    "
   ]
  },
  {
   "cell_type": "code",
   "execution_count": null,
   "id": "af4144bb",
   "metadata": {},
   "outputs": [
    {
     "data": {
      "text/html": [
       "<div>\n",
       "<style scoped>\n",
       "    .dataframe tbody tr th:only-of-type {\n",
       "        vertical-align: middle;\n",
       "    }\n",
       "\n",
       "    .dataframe tbody tr th {\n",
       "        vertical-align: top;\n",
       "    }\n",
       "\n",
       "    .dataframe thead th {\n",
       "        text-align: right;\n",
       "    }\n",
       "</style>\n",
       "<table border=\"1\" class=\"dataframe\">\n",
       "  <thead>\n",
       "    <tr style=\"text-align: right;\">\n",
       "      <th></th>\n",
       "      <th>model</th>\n",
       "      <th>EMODB</th>\n",
       "      <th>SAVEE</th>\n",
       "      <th>RAVDESS</th>\n",
       "      <th>IEMOCAP</th>\n",
       "      <th>EMODB+AWGN</th>\n",
       "      <th>SAVEE+AWGN</th>\n",
       "      <th>RAVDESS+AWGN</th>\n",
       "      <th>IEMOCAP+AWGN</th>\n",
       "    </tr>\n",
       "  </thead>\n",
       "  <tbody>\n",
       "    <tr>\n",
       "      <th>0</th>\n",
       "      <td>DenseNet121</td>\n",
       "      <td>0.543860</td>\n",
       "      <td>0.416667</td>\n",
       "      <td>0.519481</td>\n",
       "      <td>0.399160</td>\n",
       "      <td>NaN</td>\n",
       "      <td>NaN</td>\n",
       "      <td>NaN</td>\n",
       "      <td>NaN</td>\n",
       "    </tr>\n",
       "    <tr>\n",
       "      <th>1</th>\n",
       "      <td>DenseNet169</td>\n",
       "      <td>0.403509</td>\n",
       "      <td>0.416667</td>\n",
       "      <td>0.532468</td>\n",
       "      <td>0.476891</td>\n",
       "      <td>NaN</td>\n",
       "      <td>NaN</td>\n",
       "      <td>NaN</td>\n",
       "      <td>NaN</td>\n",
       "    </tr>\n",
       "    <tr>\n",
       "      <th>2</th>\n",
       "      <td>DenseNet201</td>\n",
       "      <td>0.456140</td>\n",
       "      <td>0.395833</td>\n",
       "      <td>0.389610</td>\n",
       "      <td>0.464286</td>\n",
       "      <td>NaN</td>\n",
       "      <td>NaN</td>\n",
       "      <td>NaN</td>\n",
       "      <td>NaN</td>\n",
       "    </tr>\n",
       "    <tr>\n",
       "      <th>3</th>\n",
       "      <td>InceptionV3</td>\n",
       "      <td>0.421053</td>\n",
       "      <td>0.375000</td>\n",
       "      <td>0.402597</td>\n",
       "      <td>0.449580</td>\n",
       "      <td>NaN</td>\n",
       "      <td>NaN</td>\n",
       "      <td>NaN</td>\n",
       "      <td>NaN</td>\n",
       "    </tr>\n",
       "    <tr>\n",
       "      <th>4</th>\n",
       "      <td>MobileNet</td>\n",
       "      <td>0.491228</td>\n",
       "      <td>0.395833</td>\n",
       "      <td>0.467532</td>\n",
       "      <td>0.451681</td>\n",
       "      <td>NaN</td>\n",
       "      <td>NaN</td>\n",
       "      <td>NaN</td>\n",
       "      <td>NaN</td>\n",
       "    </tr>\n",
       "    <tr>\n",
       "      <th>5</th>\n",
       "      <td>ResNet152V2</td>\n",
       "      <td>0.350877</td>\n",
       "      <td>0.312500</td>\n",
       "      <td>0.558442</td>\n",
       "      <td>NaN</td>\n",
       "      <td>NaN</td>\n",
       "      <td>NaN</td>\n",
       "      <td>NaN</td>\n",
       "      <td>NaN</td>\n",
       "    </tr>\n",
       "    <tr>\n",
       "      <th>6</th>\n",
       "      <td>ResNet50V2</td>\n",
       "      <td>0.298246</td>\n",
       "      <td>0.291667</td>\n",
       "      <td>0.532468</td>\n",
       "      <td>NaN</td>\n",
       "      <td>NaN</td>\n",
       "      <td>NaN</td>\n",
       "      <td>NaN</td>\n",
       "      <td>NaN</td>\n",
       "    </tr>\n",
       "    <tr>\n",
       "      <th>7</th>\n",
       "      <td>VGG16</td>\n",
       "      <td>0.333333</td>\n",
       "      <td>0.437500</td>\n",
       "      <td>0.363636</td>\n",
       "      <td>NaN</td>\n",
       "      <td>NaN</td>\n",
       "      <td>NaN</td>\n",
       "      <td>NaN</td>\n",
       "      <td>NaN</td>\n",
       "    </tr>\n",
       "    <tr>\n",
       "      <th>8</th>\n",
       "      <td>VGG19</td>\n",
       "      <td>0.298246</td>\n",
       "      <td>0.479167</td>\n",
       "      <td>0.389610</td>\n",
       "      <td>NaN</td>\n",
       "      <td>NaN</td>\n",
       "      <td>NaN</td>\n",
       "      <td>NaN</td>\n",
       "      <td>NaN</td>\n",
       "    </tr>\n",
       "    <tr>\n",
       "      <th>9</th>\n",
       "      <td>Xception</td>\n",
       "      <td>0.526316</td>\n",
       "      <td>0.583333</td>\n",
       "      <td>0.558442</td>\n",
       "      <td>NaN</td>\n",
       "      <td>NaN</td>\n",
       "      <td>NaN</td>\n",
       "      <td>NaN</td>\n",
       "      <td>NaN</td>\n",
       "    </tr>\n",
       "  </tbody>\n",
       "</table>\n",
       "</div>"
      ],
      "text/plain": [
       "         model     EMODB     SAVEE   RAVDESS   IEMOCAP  EMODB+AWGN  \\\n",
       "0  DenseNet121  0.543860  0.416667  0.519481  0.399160         NaN   \n",
       "1  DenseNet169  0.403509  0.416667  0.532468  0.476891         NaN   \n",
       "2  DenseNet201  0.456140  0.395833  0.389610  0.464286         NaN   \n",
       "3  InceptionV3  0.421053  0.375000  0.402597  0.449580         NaN   \n",
       "4    MobileNet  0.491228  0.395833  0.467532  0.451681         NaN   \n",
       "5  ResNet152V2  0.350877  0.312500  0.558442       NaN         NaN   \n",
       "6   ResNet50V2  0.298246  0.291667  0.532468       NaN         NaN   \n",
       "7        VGG16  0.333333  0.437500  0.363636       NaN         NaN   \n",
       "8        VGG19  0.298246  0.479167  0.389610       NaN         NaN   \n",
       "9     Xception  0.526316  0.583333  0.558442       NaN         NaN   \n",
       "\n",
       "   SAVEE+AWGN  RAVDESS+AWGN  IEMOCAP+AWGN  \n",
       "0         NaN           NaN           NaN  \n",
       "1         NaN           NaN           NaN  \n",
       "2         NaN           NaN           NaN  \n",
       "3         NaN           NaN           NaN  \n",
       "4         NaN           NaN           NaN  \n",
       "5         NaN           NaN           NaN  \n",
       "6         NaN           NaN           NaN  \n",
       "7         NaN           NaN           NaN  \n",
       "8         NaN           NaN           NaN  \n",
       "9         NaN           NaN           NaN  "
      ]
     },
     "execution_count": 1,
     "metadata": {},
     "output_type": "execute_result"
    }
   ],
   "source": [
    "import pandas as pd\n",
    "df_metrics = pd.read_csv(\"df_metrics.csv\")\n",
    "df_metrics"
   ]
  },
  {
   "cell_type": "code",
   "execution_count": null,
   "id": "839aa61b",
   "metadata": {},
   "outputs": [],
   "source": [
    "import pickle\n",
    "\n",
    "# with open('metrics.pickle', 'wb') as handle:\n",
    "#     pickle.dump(metrics_dict, handle, protocol=pickle.HIGHEST_PROTOCOL)\n",
    "\n",
    "with open('metrics.pickle', 'rb') as handle:\n",
    "    b = pickle.load(handle)\n",
    "\n",
    "# print(a == b)"
   ]
  },
  {
   "cell_type": "markdown",
   "id": "58694d28",
   "metadata": {},
   "source": [
    "## Create Custom CNN Model"
   ]
  },
  {
   "cell_type": "code",
   "execution_count": null,
   "id": "1c53a10e",
   "metadata": {
    "ExecuteTime": {
     "end_time": "2023-03-06T16:16:23.262660Z",
     "start_time": "2023-03-06T16:16:23.255529Z"
    }
   },
   "outputs": [],
   "source": [
    "def get_custom_model():\n",
    "    model = Sequential()\n",
    "\n",
    "    model.add(Conv2D(filters = 64, kernel_size = (5,5),padding = 'Same', \n",
    "                    activation ='relu', input_shape =(75, 75, 3)))\n",
    "    model.add(Conv2D(filters = 64, kernel_size = (5,5),padding = 'Same', \n",
    "                    activation ='relu'))\n",
    "    model.add(MaxPooling2D(pool_size=(2,2)))\n",
    "    model.add(Dropout(0.5))\n",
    "\n",
    "\n",
    "    model.add(Conv2D(filters = 64, kernel_size = (3,3),padding = 'Same'))\n",
    "    model.add(LeakyReLU(alpha=0.05))\n",
    "    model.add(Conv2D(filters = 64, kernel_size = (3,3),padding = 'Same',activation ='relu'))\n",
    "    model.add(Dropout(0.5))\n",
    "    model.add(MaxPooling2D(pool_size=(2,2)))\n",
    "    model.add(Dropout(0.5))\n",
    "\n",
    "\n",
    "\n",
    "    model.add(Flatten())\n",
    "    model.add(Dense(512, activation = \"relu\"))\n",
    "    model.add(Dropout(0.5))\n",
    "    model.add(Dense(4, activation = \"softmax\"))\n",
    "    optimizer = RMSprop(lr=0.001, rho=0.9, epsilon=1e-08, decay=0.0001)\n",
    "    model.compile(optimizer=optimizer, loss='sparse_categorical_crossentropy', metrics=['sparse_categorical_accuracy'])\n",
    "    return model"
   ]
  },
  {
   "cell_type": "markdown",
   "id": "682dc2cf",
   "metadata": {},
   "source": [
    "## Training Custom CNN Model"
   ]
  },
  {
   "cell_type": "code",
   "execution_count": null,
   "id": "10624c1f",
   "metadata": {
    "ExecuteTime": {
     "end_time": "2023-03-06T16:19:20.709587Z",
     "start_time": "2023-03-06T16:16:24.255408Z"
    }
   },
   "outputs": [],
   "source": [
    "model_history ={}\n",
    "for dataset in  np.flip(sources):\n",
    "    X_train,y_train,X_test,y_test = get_train_test_data(source_data, dataset)\n",
    "    model  = get_custom_model()\n",
    "    history = model.fit(X_train,y_train, batch_size = 32, epochs = 10, verbose = 0,  validation_data = (X_test,y_test))\n",
    "    model_history[dataset] = history.history\n",
    "    \n",
    "    model.save(f\"models/{dataset}_custom_cnn\")\n"
   ]
  },
  {
   "attachments": {},
   "cell_type": "markdown",
   "id": "d1ade8c0",
   "metadata": {},
   "source": [
    "## CNN Model Train vs Validation "
   ]
  },
  {
   "cell_type": "code",
   "execution_count": null,
   "id": "6972def4",
   "metadata": {
    "ExecuteTime": {
     "end_time": "2023-03-06T16:20:21.848545Z",
     "start_time": "2023-03-06T16:20:21.254510Z"
    }
   },
   "outputs": [],
   "source": [
    "import pickle\n",
    "import numpy as np\n",
    "import matplotlib.pyplot as plt\n",
    "\n",
    "for dataset in  np.flip(sources):\n",
    "    plt.figure(figsize=(8,6))\n",
    "    acc = np.round(max(model_history[dataset]['val_sparse_categorical_accuracy']),2)\n",
    "    # summarize history for accuracy\n",
    "    plt.plot(model_history[dataset]['sparse_categorical_accuracy'])\n",
    "    plt.plot(model_history[dataset]['val_sparse_categorical_accuracy'])\n",
    "    plt.title(f'CNN Model Training for {dataset} for Experiment 1')\n",
    "    plt.ylabel('accuracy')\n",
    "    plt.xlabel('epoch')\n",
    "    plt.legend(['train', 'val'], loc='upper left')\n",
    "    plt.show()"
   ]
  },
  {
   "cell_type": "code",
   "execution_count": null,
   "id": "5d699056",
   "metadata": {},
   "outputs": [],
   "source": [
    "print(\"Best Validation accuracy\\n\")\n",
    "for dataset in  np.flip(sources):\n",
    "    \n",
    "    print(dataset, max(model_history[dataset]['val_sparse_categorical_accuracy']))"
   ]
  },
  {
   "cell_type": "markdown",
   "id": "a4246f35",
   "metadata": {},
   "source": [
    "## Pre Trained and CNN Model comparison"
   ]
  },
  {
   "cell_type": "code",
   "execution_count": null,
   "id": "2b0a0b1d",
   "metadata": {
    "ExecuteTime": {
     "end_time": "2023-03-06T16:20:23.537858Z",
     "start_time": "2023-03-06T16:20:21.854006Z"
    }
   },
   "outputs": [],
   "source": [
    "for dataset in  np.flip(sources):\n",
    "    \n",
    "    print(dataset, max(model_history[dataset]['val_sparse_categorical_accuracy']))\n",
    "    max_test_accuracy= max(model_history[dataset]['val_sparse_categorical_accuracy'][:100])\n",
    "    benchmark_df = model_benchmarks_map[dataset]\n",
    "    benchmark_df.loc[len(benchmark_df.index)] = ['Custom CNN Model', 10800580,max_test_accuracy] \n",
    "    plt.figure(figsize=(8,6))\n",
    "    # Loop over each row and plot the num_model_params vs validation_accuracy\n",
    "    markers=[\".\",\",\",\"o\",\"v\",\"^\",\"<\",\">\",\"1\",\"2\",\"3\",\"4\",\"8\",\"s\",\"p\",\"P\",\"*\",\"h\",\"H\",\"+\",\"x\",\"X\",\"D\",\"d\",\"|\",\"_\",4,5,6,7,8,9,10,11]\n",
    "    plt.figure(figsize=(7,5))\n",
    "    for row in benchmark_df.itertuples():\n",
    "        plt.scatter(row.num_model_params, row.validation_accuracy, label=row.model_name, marker=markers[row.Index], s=150, linewidths=2)\n",
    "    plt.xscale('log')\n",
    "    plt.xlabel('Number of Parameters in Model')\n",
    "    plt.ylabel('Validation Accuracy after 100 Epochs')\n",
    "    plt.title(f'Model Comparison for {dataset} Experiment 1')\n",
    "    plt.legend(bbox_to_anchor=(1, 1), loc='upper left'); # Move legend out of the plot\n",
    "    model_benchmarks_map[dataset] = benchmark_df\n"
   ]
  },
  {
   "cell_type": "markdown",
   "id": "cffe13e7",
   "metadata": {},
   "source": [
    "## Each Model performance for every dataset"
   ]
  },
  {
   "cell_type": "code",
   "execution_count": null,
   "id": "88868b0c",
   "metadata": {
    "ExecuteTime": {
     "end_time": "2023-03-06T16:20:23.550091Z",
     "start_time": "2023-03-06T16:20:23.539242Z"
    }
   },
   "outputs": [],
   "source": [
    "print(sources[0])\n",
    "benchmark_df= model_benchmarks_map[sources[0]]\n",
    "benchmark_df.sort_values(by=\"validation_accuracy\").reset_index(drop=True)"
   ]
  },
  {
   "cell_type": "code",
   "execution_count": null,
   "id": "7e90e095",
   "metadata": {
    "ExecuteTime": {
     "end_time": "2023-03-06T16:20:23.561270Z",
     "start_time": "2023-03-06T16:20:23.551225Z"
    }
   },
   "outputs": [],
   "source": [
    "print(sources[1])\n",
    "benchmark_df= model_benchmarks_map[sources[1]]\n",
    "benchmark_df.sort_values(by=\"validation_accuracy\").reset_index(drop=True)"
   ]
  },
  {
   "cell_type": "code",
   "execution_count": null,
   "id": "dce4e112",
   "metadata": {
    "ExecuteTime": {
     "end_time": "2023-03-06T16:20:23.572354Z",
     "start_time": "2023-03-06T16:20:23.562529Z"
    }
   },
   "outputs": [],
   "source": [
    "print(sources[2])\n",
    "benchmark_df= model_benchmarks_map[sources[2]]\n",
    "benchmark_df.sort_values(by=\"validation_accuracy\").reset_index(drop=True)"
   ]
  },
  {
   "cell_type": "code",
   "execution_count": null,
   "id": "d522b107",
   "metadata": {
    "ExecuteTime": {
     "end_time": "2023-03-06T16:20:23.583225Z",
     "start_time": "2023-03-06T16:20:23.573380Z"
    }
   },
   "outputs": [],
   "source": [
    "print(sources[3])\n",
    "benchmark_df= model_benchmarks_map[sources[3]]\n",
    "benchmark_df.sort_values(by=\"validation_accuracy\").reset_index(drop=True)"
   ]
  },
  {
   "cell_type": "markdown",
   "id": "bb8c1105",
   "metadata": {},
   "source": [
    "## Performance Metrics"
   ]
  },
  {
   "cell_type": "code",
   "execution_count": null,
   "id": "825a4cd5",
   "metadata": {
    "ExecuteTime": {
     "end_time": "2023-03-06T15:37:43.059268Z",
     "start_time": "2023-03-06T15:37:43.027085Z"
    }
   },
   "outputs": [],
   "source": [
    "from sklearn.metrics import auc,roc_curve\n",
    "def _check_pos_label_consistency(pos_label, y_true):\n",
    "    \"\"\"Check if `pos_label` need to be specified or not.\n",
    "    In binary classification, we fix `pos_label=1` if the labels are in the set\n",
    "    {-1, 1} or {0, 1}. Otherwise, we raise an error asking to specify the\n",
    "    `pos_label` parameters.\n",
    "    Parameters\n",
    "    ----------\n",
    "    pos_label : int, str or None\n",
    "        The positive label.\n",
    "    y_true : ndarray of shape (n_samples,)\n",
    "        The target vector.\n",
    "    Returns\n",
    "    -------\n",
    "    pos_label : int\n",
    "        If `pos_label` can be inferred, it will be returned.\n",
    "    Raises\n",
    "    ------\n",
    "    ValueError\n",
    "        In the case that `y_true` does not have label in {-1, 1} or {0, 1},\n",
    "        it will raise a `ValueError`.\n",
    "    \"\"\"\n",
    "    # ensure binary classification if pos_label is not specified\n",
    "    # classes.dtype.kind in ('O', 'U', 'S') is required to avoid\n",
    "    # triggering a FutureWarning by calling np.array_equal(a, b)\n",
    "    # when elements in the two arrays are not comparable.\n",
    "    classes = np.unique(y_true)\n",
    "    if pos_label is None and (\n",
    "        classes.dtype.kind in \"OUS\"\n",
    "        or not (\n",
    "            np.array_equal(classes, [0, 1])\n",
    "            or np.array_equal(classes, [-1, 1])\n",
    "            or np.array_equal(classes, [0])\n",
    "            or np.array_equal(classes, [-1])\n",
    "            or np.array_equal(classes, [1])\n",
    "        )\n",
    "    ):\n",
    "        classes_repr = \", \".join(repr(c) for c in classes)\n",
    "        raise ValueError(\n",
    "            f\"y_true takes value in {{{classes_repr}}} and pos_label is not \"\n",
    "            \"specified: either make y_true take value in {0, 1} or \"\n",
    "            \"{-1, 1} or pass pos_label explicitly.\"\n",
    "        )\n",
    "    elif pos_label is None:\n",
    "        pos_label = 1\n",
    "\n",
    "    return pos_label\n",
    "\n",
    "class RocCurveDisplay:\n",
    "   \n",
    "\n",
    "    def __init__(self, *, fpr, tpr, roc_auc=None, estimator_name=None, pos_label=None):\n",
    "        self.estimator_name = estimator_name\n",
    "        self.fpr = fpr\n",
    "        self.tpr = tpr\n",
    "        self.roc_auc = roc_auc\n",
    "        self.pos_label = pos_label\n",
    "\n",
    "    def plot(self, ax=None, *, name=None, **kwargs):\n",
    "        \"\"\"Plot visualization.\n",
    "\n",
    "        Extra keyword arguments will be passed to matplotlib's ``plot``.\n",
    "\n",
    "        Parameters\n",
    "        ----------\n",
    "        ax : matplotlib axes, default=None\n",
    "            Axes object to plot on. If `None`, a new figure and axes is\n",
    "            created.\n",
    "\n",
    "        name : str, default=None\n",
    "            Name of ROC Curve for labeling. If `None`, use `estimator_name` if\n",
    "            not `None`, otherwise no labeling is shown.\n",
    "\n",
    "        **kwargs : dict\n",
    "            Keyword arguments to be passed to matplotlib's `plot`.\n",
    "\n",
    "        Returns\n",
    "        -------\n",
    "        display : :class:`~sklearn.metrics.plot.RocCurveDisplay`\n",
    "            Object that stores computed values.\n",
    "        \"\"\"\n",
    "        name = self.estimator_name if name is None else name\n",
    "\n",
    "        line_kwargs = {}\n",
    "        if self.roc_auc is not None and name is not None:\n",
    "            line_kwargs[\"label\"] = f\"{name} (AUC = {self.roc_auc:0.2f})\"\n",
    "        elif self.roc_auc is not None:\n",
    "            line_kwargs[\"label\"] = f\"AUC = {self.roc_auc:0.2f}\"\n",
    "        elif name is not None:\n",
    "            line_kwargs[\"label\"] = name\n",
    "\n",
    "        line_kwargs.update(**kwargs)\n",
    "\n",
    "        import matplotlib.pyplot as plt\n",
    "\n",
    "        if ax is None:\n",
    "            fig, ax = plt.subplots()\n",
    "\n",
    "        (self.line_,) = ax.plot(self.fpr, self.tpr, **line_kwargs)\n",
    "        info_pos_label = (\n",
    "            f\" (Positive label: {self.pos_label})\" if self.pos_label is not None else \"\"\n",
    "        )\n",
    "\n",
    "        xlabel = \"False Positive Rate\" + info_pos_label\n",
    "        ylabel = \"True Positive Rate\" + info_pos_label\n",
    "        ax.set(xlabel=xlabel, ylabel=ylabel)\n",
    "\n",
    "        if \"label\" in line_kwargs:\n",
    "            ax.legend(loc=\"lower right\")\n",
    "\n",
    "        self.ax_ = ax\n",
    "        self.figure_ = ax.figure\n",
    "        return self\n",
    "\n",
    "\n",
    "    @classmethod\n",
    "    def from_predictions(\n",
    "        cls,\n",
    "        y_true,\n",
    "        y_pred,\n",
    "        *,\n",
    "        sample_weight=None,\n",
    "        drop_intermediate=True,\n",
    "        pos_label=None,\n",
    "        name=None,\n",
    "        ax=None,\n",
    "        **kwargs,\n",
    "    ):\n",
    "        \"\"\"Plot ROC curve given the true and predicted values.\n",
    "\n",
    "        Read more in the :ref:`User Guide <visualizations>`.\n",
    "\n",
    "        .. versionadded:: 1.0\n",
    "\n",
    "        Parameters\n",
    "        ----------\n",
    "        y_true : array-like of shape (n_samples,)\n",
    "            True labels.\n",
    "\n",
    "        y_pred : array-like of shape (n_samples,)\n",
    "            Target scores, can either be probability estimates of the positive\n",
    "            class, confidence values, or non-thresholded measure of decisions\n",
    "            (as returned by “decision_function” on some classifiers).\n",
    "\n",
    "        sample_weight : array-like of shape (n_samples,), default=None\n",
    "            Sample weights.\n",
    "\n",
    "        drop_intermediate : bool, default=True\n",
    "            Whether to drop some suboptimal thresholds which would not appear\n",
    "            on a plotted ROC curve. This is useful in order to create lighter\n",
    "            ROC curves.\n",
    "\n",
    "        pos_label : str or int, default=None\n",
    "            The label of the positive class. When `pos_label=None`, if `y_true`\n",
    "            is in {-1, 1} or {0, 1}, `pos_label` is set to 1, otherwise an\n",
    "            error will be raised.\n",
    "\n",
    "        name : str, default=None\n",
    "            Name of ROC curve for labeling. If `None`, name will be set to\n",
    "            `\"Classifier\"`.\n",
    "\n",
    "        ax : matplotlib axes, default=None\n",
    "            Axes object to plot on. If `None`, a new figure and axes is\n",
    "            created.\n",
    "\n",
    "        **kwargs : dict\n",
    "            Additional keywords arguments passed to matplotlib `plot` function.\n",
    "\n",
    "        Returns\n",
    "        -------\n",
    "        display : :class:`~sklearn.metrics.RocCurveDisplay`\n",
    "            Object that stores computed values.\n",
    "\n",
    "        See Also\n",
    "        --------\n",
    "        roc_curve : Compute Receiver operating characteristic (ROC) curve.\n",
    "        RocCurveDisplay.from_estimator : ROC Curve visualization given an\n",
    "            estimator and some data.\n",
    "        roc_auc_score : Compute the area under the ROC curve.\n",
    "\n",
    "        Examples\n",
    "        --------\n",
    "        >>> import matplotlib.pyplot as plt\n",
    "        >>> from sklearn.datasets import make_classification\n",
    "        >>> from sklearn.metrics import RocCurveDisplay\n",
    "        >>> from sklearn.model_selection import train_test_split\n",
    "        >>> from sklearn.svm import SVC\n",
    "        >>> X, y = make_classification(random_state=0)\n",
    "        >>> X_train, X_test, y_train, y_test = train_test_split(\n",
    "        ...     X, y, random_state=0)\n",
    "        >>> clf = SVC(random_state=0).fit(X_train, y_train)\n",
    "        >>> y_pred = clf.decision_function(X_test)\n",
    "        >>> RocCurveDisplay.from_predictions(\n",
    "        ...    y_test, y_pred)\n",
    "        <...>\n",
    "        >>> plt.show()\n",
    "        \"\"\"\n",
    "     \n",
    "        fpr, tpr, _ = roc_curve(\n",
    "            y_true,\n",
    "            y_pred,\n",
    "            pos_label=pos_label,\n",
    "            sample_weight=sample_weight,\n",
    "            drop_intermediate=drop_intermediate,\n",
    "        )\n",
    "        roc_auc = auc(fpr, tpr)\n",
    "\n",
    "        name = \"Classifier\" if name is None else name\n",
    "        pos_label = _check_pos_label_consistency(pos_label, y_true)\n",
    "\n",
    "        viz = RocCurveDisplay(\n",
    "            fpr=fpr, tpr=tpr, roc_auc=roc_auc, estimator_name=name, pos_label=pos_label\n",
    "        )\n",
    "\n",
    "        return viz.plot(ax=ax, name=name, **kwargs)\n",
    "\n",
    "import matplotlib.pyplot as plt\n",
    "\n",
    "def plot_confusion_matrix(cm, classes,\n",
    "                          normalize=True,\n",
    "                          title='Confusion matrix',\n",
    "                          cmap=plt.cm.Blues):\n",
    "\n",
    "    plt.imshow(cm, interpolation='nearest', cmap=cmap)\n",
    "    plt.title(title)\n",
    "    plt.colorbar()\n",
    "    tick_marks = np.arange(len(classes))\n",
    "    plt.xticks(tick_marks, classes, rotation=45)\n",
    "    plt.yticks(tick_marks, classes)\n",
    "\n",
    "    if normalize:\n",
    "        cm = np.round(cm.astype('float') / cm.sum(axis=1)[:, np.newaxis],2)\n",
    "        print(\"Normalized confusion matrix\")\n",
    "    else:\n",
    "        print('Confusion matrix, without normalization')\n",
    "\n",
    "    thresh = cm.max() / 2.\n",
    "    for i, j in itertools.product(range(cm.shape[0]), range(cm.shape[1])):\n",
    "        plt.text(j, i, cm[i, j],\n",
    "                 horizontalalignment=\"center\",\n",
    "                 color=\"white\" if cm[i, j] > thresh else \"black\")\n",
    "\n",
    "    plt.tight_layout()\n",
    "    plt.ylabel('True label')\n",
    "    plt.xlabel('Predicted label')\n",
    "\n",
    "from sklearn.preprocessing import LabelBinarizer\n",
    "from sklearn.metrics import roc_curve, auc ,roc_auc_score\n",
    "import matplotlib.pyplot as plt\n",
    "\n",
    "from itertools import cycle\n",
    "\n",
    "from sklearn import metrics\n",
    "import itertools\n",
    "\n",
    "def plot_metrics(dataset,model,X_train,y_train,X_test,y_test):\n",
    "\n",
    "    print(dataset)\n",
    "    \n",
    "    # X_train,y_train,X_test,y_test = get_train_test_data(source_data, dataset)\n",
    "\n",
    "    \n",
    "    y_pred_prob = model.predict(X_test)\n",
    "    y_pred = np.argmax(y_pred_prob,axis=1)\n",
    "\n",
    "    label_binarizer = LabelBinarizer().fit(y_train)\n",
    "    y_onehot_test = label_binarizer.transform(y_test)\n",
    "    y_onehot_test.shape  # (n_samples, n_classes)\n",
    "    y_score = label_binarizer.transform(y_pred)\n",
    "\n",
    "\n",
    "    # store the fpr, tpr, and roc_auc for all averaging strategies\n",
    "    fpr, tpr, roc_auc = dict(), dict(), dict()\n",
    "    # Compute micro-average ROC curve and ROC area\n",
    "    fpr[\"micro\"], tpr[\"micro\"], _ = roc_curve(y_onehot_test.ravel(), y_score.ravel())\n",
    "    roc_auc[\"micro\"] = auc(fpr[\"micro\"], tpr[\"micro\"])\n",
    "\n",
    "    print(f\"Micro-averaged One-vs-Rest ROC AUC score:\\n{roc_auc['micro']:.2f}\")\n",
    "\n",
    "    macro_roc_auc_ovr = roc_auc_score(\n",
    "        y_test,\n",
    "        y_score,\n",
    "        multi_class=\"ovr\",\n",
    "        average=\"macro\",\n",
    "    )\n",
    "\n",
    "    print(f\"Macro-averaged One-vs-Rest ROC AUC score:\\n{macro_roc_auc_ovr:.2f}\")\n",
    "\n",
    "    n_classes =4\n",
    "    for i in range(n_classes):\n",
    "        fpr[i], tpr[i], _ = roc_curve(y_onehot_test[:, i], y_score[:, i])\n",
    "        roc_auc[i] = auc(fpr[i], tpr[i])\n",
    "\n",
    "    fpr_grid = np.linspace(0.0, 1.0, 1000)\n",
    "\n",
    "    # Interpolate all ROC curves at these points\n",
    "    mean_tpr = np.zeros_like(fpr_grid)\n",
    "\n",
    "    for i in range(n_classes):\n",
    "        mean_tpr += np.interp(fpr_grid, fpr[i], tpr[i])  # linear interpolation\n",
    "\n",
    "    # Average it and compute AUC\n",
    "    mean_tpr /= n_classes\n",
    "\n",
    "    fpr[\"macro\"] = fpr_grid\n",
    "    tpr[\"macro\"] = mean_tpr\n",
    "    roc_auc[\"macro\"] = auc(fpr[\"macro\"], tpr[\"macro\"])\n",
    "\n",
    "    print(f\"Macro-averaged One-vs-Rest ROC AUC score:\\n{roc_auc['macro']:.2f}\")\n",
    "\n",
    "\n",
    "\n",
    "    target_names=['angry','happy','neutral', 'sad' ]\n",
    "\n",
    "    fig, ax = plt.subplots(figsize=(8, 8))\n",
    "\n",
    "    plt.plot(\n",
    "        fpr[\"micro\"],\n",
    "        tpr[\"micro\"],\n",
    "        label=f\"micro-average ROC curve (AUC = {roc_auc['micro']:.2f})\",\n",
    "        color=\"deeppink\",\n",
    "        linestyle=\":\",\n",
    "        linewidth=4,\n",
    "    )\n",
    "\n",
    "    plt.plot(\n",
    "        fpr[\"macro\"],\n",
    "        tpr[\"macro\"],\n",
    "        label=f\"macro-average ROC curve (AUC = {roc_auc['macro']:.2f})\",\n",
    "        color=\"navy\",\n",
    "        linestyle=\":\",\n",
    "        linewidth=4,\n",
    "    )\n",
    "\n",
    "    colors = cycle([\"aqua\", \"darkorange\", \"cornflowerblue\",\"green\"])\n",
    "    for class_id, color in zip(range(n_classes), colors):\n",
    "        RocCurveDisplay.from_predictions(\n",
    "            y_onehot_test[:, class_id],\n",
    "            y_score[:, class_id],\n",
    "            name=f\"ROC curve for {target_names[class_id]}\",\n",
    "            color=color,\n",
    "            ax=ax,\n",
    "        )\n",
    "\n",
    "    plt.plot([0, 1], [0, 1], \"k--\", label=\"ROC curve for chance level (AUC = 0.5)\")\n",
    "    plt.axis(\"square\")\n",
    "    plt.xlabel(\"False Positive Rate\")\n",
    "    plt.ylabel(\"True Positive Rate\")\n",
    "    plt.title(\"Extension of Receiver Operating Characteristic\\nto One-vs-Rest multiclass\")\n",
    "    plt.legend()\n",
    "    plt.show()\n",
    "    plt.savefig(f'{dataset}_roc.pdf')\n",
    "\n",
    "\n",
    "    #importing accuracy_score, precision_score, recall_score, f1_score\n",
    "    from sklearn.metrics import accuracy_score, precision_score, recall_score, f1_score\n",
    "    print('\\nAccuracy: {:.2f}\\n'.format(accuracy_score(y_test, y_pred)))\n",
    "\n",
    "    print('Micro Precision: {:.2f}'.format(precision_score(y_test, y_pred, average='micro')))\n",
    "    print('Micro Recall: {:.2f}'.format(recall_score(y_test, y_pred, average='micro')))\n",
    "    print('Micro F1-score: {:.2f}\\n'.format(f1_score(y_test, y_pred, average='micro')))\n",
    "\n",
    "    print('Macro Precision: {:.2f}'.format(precision_score(y_test, y_pred, average='macro')))\n",
    "    print('Macro Recall: {:.2f}'.format(recall_score(y_test, y_pred, average='macro')))\n",
    "    print('Macro F1-score: {:.2f}\\n'.format(f1_score(y_test, y_pred, average='macro')))\n",
    "\n",
    "    print('Weighted Precision: {:.2f}'.format(precision_score(y_test, y_pred, average='weighted')))\n",
    "    print('Weighted Recall: {:.2f}'.format(recall_score(y_test, y_pred, average='weighted')))\n",
    "    print('Weighted F1-score: {:.2f}'.format(f1_score(y_test, y_pred, average='weighted')))\n",
    "\n",
    "\n",
    "\n",
    "    score = metrics.accuracy_score(y_test, y_pred)\n",
    "    print(\"accuracy:   %0.3f\" % score)\n",
    "\n",
    "    cm = metrics.confusion_matrix(y_test, y_pred)\n",
    "    \n",
    "\n",
    "    print(\"accuracy\\n\",cm.diagonal()/cm.sum(axis=1))\n",
    "    \n",
    "    plt.figure(figsize=(8,6))\n",
    "    plot_confusion_matrix(cm, classes=['angry','happy','neutral', 'sad' ])\n",
    "    plt.savefig(f'{dataset}_cm.pdf')"
   ]
  },
  {
   "cell_type": "code",
   "execution_count": null,
   "id": "5a304ce2",
   "metadata": {
    "ExecuteTime": {
     "end_time": "2023-03-06T15:37:54.259470Z",
     "start_time": "2023-03-06T15:37:43.606353Z"
    }
   },
   "outputs": [],
   "source": [
    "model = tf.keras.models.load_model(\"models/IEMOCAP_custom_cnn\")\n",
    "plot_metrics('IEMOCAP',model)"
   ]
  },
  {
   "cell_type": "code",
   "execution_count": null,
   "id": "42476f94",
   "metadata": {
    "ExecuteTime": {
     "end_time": "2023-03-06T15:37:56.946488Z",
     "start_time": "2023-03-06T15:37:54.260886Z"
    }
   },
   "outputs": [],
   "source": [
    "model = tf.keras.models.load_model(\"models/EMODB_custom_cnn\")\n",
    "plot_metrics('EMODB',model)"
   ]
  },
  {
   "cell_type": "code",
   "execution_count": null,
   "id": "9637769f",
   "metadata": {
    "ExecuteTime": {
     "end_time": "2023-03-06T15:37:59.205843Z",
     "start_time": "2023-03-06T15:37:56.948063Z"
    }
   },
   "outputs": [],
   "source": [
    "model = tf.keras.models.load_model(\"models/SAVEE_custom_cnn\")\n",
    "plot_metrics('SAVEE',model)"
   ]
  },
  {
   "cell_type": "code",
   "execution_count": null,
   "id": "4b3c34f6",
   "metadata": {
    "ExecuteTime": {
     "end_time": "2023-03-06T14:50:36.475235Z",
     "start_time": "2023-03-06T14:50:31.342582Z"
    }
   },
   "outputs": [],
   "source": [
    "model = tf.keras.models.load_model(\"models/RAVDESS_custom_cnn\")\n",
    "plot_metrics('RAVDESS',model)"
   ]
  },
  {
   "cell_type": "code",
   "execution_count": null,
   "id": "e93915dc",
   "metadata": {},
   "outputs": [],
   "source": []
  },
  {
   "cell_type": "code",
   "execution_count": null,
   "id": "1234aa46",
   "metadata": {},
   "outputs": [],
   "source": []
  },
  {
   "cell_type": "code",
   "execution_count": null,
   "id": "b42a3c4e",
   "metadata": {},
   "outputs": [],
   "source": []
  }
 ],
 "metadata": {
  "kernelspec": {
   "display_name": "Python 3",
   "language": "python",
   "name": "python3"
  },
  "language_info": {
   "codemirror_mode": {
    "name": "ipython",
    "version": 3
   },
   "file_extension": ".py",
   "mimetype": "text/x-python",
   "name": "python",
   "nbconvert_exporter": "python",
   "pygments_lexer": "ipython3",
   "version": "3.10.12"
  },
  "vscode": {
   "interpreter": {
    "hash": "bad90376544398934bbfe575ef4c373421ea6e776e7f5aa358dfc4d1b4ea549a"
   }
  }
 },
 "nbformat": 4,
 "nbformat_minor": 5
}
